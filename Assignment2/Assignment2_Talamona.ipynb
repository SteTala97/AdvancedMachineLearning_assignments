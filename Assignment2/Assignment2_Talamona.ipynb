{
  "nbformat": 4,
  "nbformat_minor": 0,
  "metadata": {
    "kernelspec": {
      "display_name": "Python 3",
      "language": "python",
      "name": "python3"
    },
    "language_info": {
      "codemirror_mode": {
        "name": "ipython",
        "version": 3
      },
      "file_extension": ".py",
      "mimetype": "text/x-python",
      "name": "python",
      "nbconvert_exporter": "python",
      "pygments_lexer": "ipython3",
      "version": "3.6.4"
    },
    "colab": {
      "name": "Assignment2_Talamona.ipynb",
      "provenance": [],
      "collapsed_sections": [],
      "toc_visible": true
    }
  },
  "cells": [
    {
      "cell_type": "markdown",
      "metadata": {
        "id": "FH5ja_uiJbr6"
      },
      "source": [
        "# Stefano Talamona (822452) - Assignment 2: Predicting grayscale images of letters P - Z.\n",
        "\n",
        "---\n",
        "---"
      ]
    },
    {
      "cell_type": "code",
      "metadata": {
        "colab": {
          "base_uri": "https://localhost:8080/"
        },
        "id": "4nyOkGqmvMw_",
        "outputId": "25ffa2d4-01c4-46c7-d121-721991a8be1d"
      },
      "source": [
        "# Connect to Drive to get the .obj files\n",
        "from google.colab import drive\n",
        "drive.mount('/content/drive')"
      ],
      "execution_count": null,
      "outputs": [
        {
          "output_type": "stream",
          "name": "stdout",
          "text": [
            "Mounted at /content/drive\n"
          ]
        }
      ]
    },
    {
      "cell_type": "code",
      "metadata": {
        "id": "1CMSUAz7vF3a"
      },
      "source": [
        "# Imports\n",
        "import pickle\n",
        "import numpy as np\n",
        "import matplotlib.pyplot as plt\n",
        "from sklearn.model_selection import train_test_split\n",
        "from keras.utils import np_utils\n",
        "from keras.models import Sequential, Model\n",
        "from keras.layers import Dense, Input, Dropout\n",
        "from tensorflow.keras import initializers\n",
        "from tensorflow.keras import optimizers\n",
        "from tensorflow.keras import regularizers\n",
        "from tensorflow.keras import metrics"
      ],
      "execution_count": 169,
      "outputs": []
    },
    {
      "cell_type": "markdown",
      "metadata": {
        "id": "0-FgzT_cJbsH"
      },
      "source": [
        "\n",
        "\n",
        "---\n",
        "\n",
        "\n",
        "##About the data\n",
        "\n",
        "The dataset is composed of 22800 instances (train + test) of 28x28 grayscale images (each pixel has value in [0, 255]) of hand-written letters from P to Z."
      ]
    },
    {
      "cell_type": "code",
      "metadata": {
        "id": "8vSiz47HXYYM",
        "colab": {
          "base_uri": "https://localhost:8080/"
        },
        "outputId": "d43786c0-3092-4b8b-cde1-285ddd15aeff"
      },
      "source": [
        "x_train_og = pickle.load(open('/content/drive/MyDrive/data/x_train.obj',\"rb\"))\n",
        "x_test_og = pickle.load(open('/content/drive/MyDrive/data/x_test.obj',\"rb\"))\n",
        "y_train_og = pickle.load(open('/content/drive/MyDrive/data/y_train.obj',\"rb\"))\n",
        "print(\"Dataset loaded\")"
      ],
      "execution_count": 83,
      "outputs": [
        {
          "output_type": "stream",
          "name": "stdout",
          "text": [
            "Dataset loaded\n"
          ]
        }
      ]
    },
    {
      "cell_type": "code",
      "metadata": {
        "colab": {
          "base_uri": "https://localhost:8080/",
          "height": 214
        },
        "id": "lvKYwjiPpoV3",
        "outputId": "2a2620d0-0cbb-4b1d-f210-63fec55452ff"
      },
      "source": [
        "print(\"Shape of the training set:\", np.shape(x_train_og))\n",
        "print(\"Shape of the test set:\", np.shape(x_test_og))\n",
        "print(\"Number of instances in the training set:\", np.shape(y_train_og)[0], \"\\n\")\n",
        "\n",
        "n = 10\n",
        "print(\"These are the first\", n, \"images in the training set:\")\n",
        "plt.figure(figsize = (20, 4))\n",
        "for i in range(n):\n",
        "    ax = plt.subplot(1, n, i + 1)\n",
        "    plt.imshow(x_train_og[i])\n",
        "    plt.gray()\n",
        "    ax.get_xaxis().set_visible(False)\n",
        "    ax.get_yaxis().set_visible(False)"
      ],
      "execution_count": 84,
      "outputs": [
        {
          "output_type": "stream",
          "name": "stdout",
          "text": [
            "Shape of the training set: (14000, 28, 28)\n",
            "Shape of the test set: (8800, 28, 28)\n",
            "Number of instances in the training set: 14000 \n",
            "\n",
            "These are the first 10 images in the training set:\n"
          ]
        },
        {
          "output_type": "display_data",
          "data": {
            "image/png": "[encoded data removed]",
            "text/plain": [
              "<Figure size 1440x288 with 10 Axes>"
            ]
          },
          "metadata": {
            "needs_background": "light"
          }
        }
      ]
    },
    {
      "cell_type": "code",
      "metadata": {
        "colab": {
          "base_uri": "https://localhost:8080/"
        },
        "id": "mnC3bWe1nN7K",
        "outputId": "23144a70-ac13-48dd-d33c-fd4606d5efd1"
      },
      "source": [
        "print(\"Datatype of a single pixel value:\", type(x_train_og[0, 0, 0]))\n",
        "print(\"The values span in the range: [\", np.amin(x_train_og), \",\", np.amax(x_train_og), \"]\")\n",
        "n_classes = np.amax(y_train_og) - np.amin(y_train_og) + 1\n",
        "print(\"Number of different labels (number of different letters considered) :\", n_classes)\n",
        "\n",
        "print(\"\\nDistribution of the samples per letter:\")\n",
        "min_label = np.amin(y_train_og) \n",
        "occurrences = np.bincount(y_train_og)\n",
        "for i in range(min_label, min_label + n_classes):\n",
        "  print(chr(i + 64), \":\", occurrences[i])"
      ],
      "execution_count": 85,
      "outputs": [
        {
          "output_type": "stream",
          "name": "stdout",
          "text": [
            "Datatype of a single pixel value: <class 'numpy.uint8'>\n",
            "The values span in the range: [ 0 , 255 ]\n",
            "Number of different labels (number of different letters considered) : 11\n",
            "\n",
            "Distribution of the samples per letter:\n",
            "P : 1295\n",
            "Q : 1265\n",
            "R : 1346\n",
            "S : 1329\n",
            "T : 1336\n",
            "U : 1297\n",
            "V : 1269\n",
            "W : 1327\n",
            "X : 1322\n",
            "Y : 1321\n",
            "Z : 893\n"
          ]
        }
      ]
    },
    {
      "cell_type": "markdown",
      "metadata": {
        "id": "PjWrQr5vWTTG"
      },
      "source": [
        "\n",
        "\n",
        "---\n",
        "\n",
        "\n",
        "## Preprocessing\n",
        "\n",
        "-The range of gray intensity pixel values is normalized in [0, 1], and the  datatype is casted from *8-bit unsigned int* to *float32*.\n",
        "\n",
        "-The images are then reshaped to become a one-dimensional vector of pixel values.\n",
        "\n",
        "-The labels vector is scaled from [16, 26] to [0, 10] to be encoded with the function *to_categorical()*.\n",
        "\n",
        "-The number of samples per letter looks pretty consistent, so I'm not going to do any balancing of thtat kind."
      ]
    },
    {
      "cell_type": "code",
      "metadata": {
        "id": "J84aUJVUJbsI"
      },
      "source": [
        "# Convert to float and scale in range [0, 1]\n",
        "X_train = x_train_og.astype('float32') / 255.\n",
        "X_test = x_test_og.astype('float32') / 255.\n",
        "# Reshape to obtain 2-dimensional data\n",
        "x_train = X_train.reshape((len(x_train_og), np.prod(x_train_og.shape[1:])))\n",
        "x_test = X_test.reshape((len(x_test_og), np.prod(x_test_og.shape[1:])))\n",
        "# The following conversion is carried out using one-hot encoding, after \n",
        "# scaling the labels in the range [0, 11] (which is [0, n_classes])\n",
        "y_train_scaled = np.copy(y_train_og)\n",
        "for i in range(np.shape(y_train_og)[0]):\n",
        "  y_train_scaled[i] = y_train_og[i] - min_label\n",
        "y_train = np_utils.to_categorical(y_train_scaled, n_classes)"
      ],
      "execution_count": 101,
      "outputs": []
    },
    {
      "cell_type": "code",
      "metadata": {
        "colab": {
          "base_uri": "https://localhost:8080/"
        },
        "id": "OucQhDWKBlbu",
        "outputId": "4316e0aa-46f6-4a08-85a4-cca9c9790e48"
      },
      "source": [
        "print(\"Training set size =\", x_train.shape)\n",
        "print(\"Validation set size =\", x_val.shape)\n",
        "print(\"The values now span in the range [\", np.amin(x_train), \",\", np.amax(x_train), \"]\")\n",
        "print(\"And the datatype is now\", type(x_train[0, 0]))"
      ],
      "execution_count": 112,
      "outputs": [
        {
          "output_type": "stream",
          "name": "stdout",
          "text": [
            "Training set size = (14000, 784)\n",
            "Validation set size = (3500, 784)\n",
            "The values now span in the range [ 0.0 , 1.0 ]\n",
            "And the datatype is now <class 'numpy.float32'>\n"
          ]
        }
      ]
    },
    {
      "cell_type": "markdown",
      "metadata": {
        "id": "baYSJzXhpd78"
      },
      "source": [
        "\n",
        "\n",
        "---\n",
        "\n",
        "\n",
        "# 1. Supervised classification\n"
      ]
    },
    {
      "cell_type": "markdown",
      "metadata": {
        "id": "Eb9aljYxJbsK"
      },
      "source": [
        "## **Building the network**\n",
        "\n",
        "## Structure:\n",
        "The model I implemented has the following structure:\n",
        "\n",
        "**FC@128+ReLU ---> FC@32+ReLU ---> FC@nb_classes+softmax**\n",
        "\n",
        "I tried different number of layers and different number of units for each layer, and I came up with this specific structure since it gave the best results in terms of both accuracy and generalization capability.\n",
        "\n",
        "## Activation functions:\n",
        "Each of the two hidden layers use *ReLU* as activation function, and for the output layer I opted for the *softmax* function, which is a good choice for representing discrete probability distributions with *n* possible values, where in this case *n = n_classes = 11*. \n",
        "\n",
        "## Loss function:\n",
        "Given the nature of the problem (and the data), the function used to calculate the loss after each step is the *categorical cross-entropy*.\n",
        "\n",
        "## Initializer:\n",
        "The initializer used is the *He Uniform initializer*, which was chosen because from the literature it seems to be the most appropriate weight initializer when the hidden layers of the model use ReLU activation function compared to the *Xavier* (Glorot) initializer (\"[On weight initialization in deep neural networks](https://arxiv.org/abs/1704.08863)\" Kumar, 2017).\n",
        "\n",
        "## Optimization:\n",
        "As optimizer, again based on the literature I found on the web (and since it gave satisfying results), I went for the *Adam* optimizer with standard learning rate value.\n",
        "\n",
        "## Regularization:\n",
        "About regularization, I used both *dropout* (with probability 0.1) and *L2 regularizer* (with standard regularization factor), which combined together helped me to obtain nice accuracy and loss results and also to get rid of the strong overfitting I was experiencing during the first attempts, both aspects that I noticed from the results in the following validation step and the really high loss I was getting during the training step. About the dropout probability, I tried using dropout with probability 0.5 as \"starting point\", and I immediately noticed that the model struggled to converge and the loss value stayed pretty high; also, during the validation step I got higher loss and lower accuracy for the training compared to the validation, meaning that I've made it harder for the network to give the right answers, and since during validation all of the units are available, the network has its full computational power, performing better than in training. Lowering that probability to 0.1 gave better results."
      ]
    },
    {
      "cell_type": "code",
      "metadata": {
        "id": "AS3zsRlBYHKW"
      },
      "source": [
        "initializer = initializers.HeUniform(seed = 1234)   # He weight initializer\n",
        "optimizer = optimizers.Adam(learning_rate = 0.001)  # Adam optimizer\n",
        "regularizer = regularizers.l2(l2 = 0.01)            # L2 regularizer\n",
        "\n",
        "model = Sequential()\n",
        "\"\"\" FC@128+ReLU \"\"\"\n",
        "model.add(Dense(128, activation = \"relu\", kernel_initializer = initializer,\n",
        "                kernel_regularizer = regularizer, bias_regularizer = regularizer,activity_regularizer = regularizer))\n",
        "model.add(Dropout(rate = 0.1))\n",
        "\"\"\" FC@32+ReLU \"\"\"\n",
        "model.add(Dense(32, activation = \"relu\", kernel_initializer = initializer,\n",
        "                kernel_regularizer = regularizer, bias_regularizer = regularizer,activity_regularizer = regularizer))\n",
        "model.add(Dropout(rate = 0.1))\n",
        "\"\"\" FC@n_classes+softmax \"\"\"\n",
        "model.add(Dense(n_classes, activation = \"softmax\", kernel_initializer = initializer))\n",
        "\n",
        "n_epochs = 75\n",
        "batch_size = 128"
      ],
      "execution_count": 103,
      "outputs": []
    },
    {
      "cell_type": "code",
      "metadata": {
        "colab": {
          "base_uri": "https://localhost:8080/"
        },
        "id": "iwotSYresyCH",
        "outputId": "9b9479b0-0ef9-44ec-b2a1-a8054239f815"
      },
      "source": [
        "# Compile\n",
        "model.compile(optimizer = optimizer, loss = \"categorical_crossentropy\",\n",
        "              metrics = ['accuracy'])\n",
        "# Train\n",
        "network_history = model.fit(x_train, y_train, batch_size = batch_size, epochs = n_epochs, verbose = 1)\n",
        "print(\"Training complete!\")"
      ],
      "execution_count": 104,
      "outputs": [
        {
          "output_type": "stream",
          "name": "stdout",
          "text": [
            "Epoch 1/75\n",
            "110/110 [==============================] - 1s 5ms/step - loss: 3.1333 - accuracy: 0.6349\n",
            "Epoch 2/75\n",
            "110/110 [==============================] - 0s 4ms/step - loss: 1.5547 - accuracy: 0.8162\n",
            "Epoch 3/75\n",
            "110/110 [==============================] - 1s 5ms/step - loss: 1.2143 - accuracy: 0.8429\n",
            "Epoch 4/75\n",
            "110/110 [==============================] - 0s 5ms/step - loss: 1.0653 - accuracy: 0.8636\n",
            "Epoch 5/75\n",
            "110/110 [==============================] - 0s 4ms/step - loss: 0.9821 - accuracy: 0.8712\n",
            "Epoch 6/75\n",
            "110/110 [==============================] - 0s 4ms/step - loss: 0.9287 - accuracy: 0.8806\n",
            "Epoch 7/75\n",
            "110/110 [==============================] - 0s 4ms/step - loss: 0.8890 - accuracy: 0.8814\n",
            "Epoch 8/75\n",
            "110/110 [==============================] - 0s 4ms/step - loss: 0.8604 - accuracy: 0.8875\n",
            "Epoch 9/75\n",
            "110/110 [==============================] - 0s 4ms/step - loss: 0.8319 - accuracy: 0.8913\n",
            "Epoch 10/75\n",
            "110/110 [==============================] - 1s 5ms/step - loss: 0.8030 - accuracy: 0.8945\n",
            "Epoch 11/75\n",
            "110/110 [==============================] - 1s 5ms/step - loss: 0.7855 - accuracy: 0.8979\n",
            "Epoch 12/75\n",
            "110/110 [==============================] - 0s 5ms/step - loss: 0.7741 - accuracy: 0.8971\n",
            "Epoch 13/75\n",
            "110/110 [==============================] - 1s 5ms/step - loss: 0.7586 - accuracy: 0.9021\n",
            "Epoch 14/75\n",
            "110/110 [==============================] - 0s 4ms/step - loss: 0.7378 - accuracy: 0.9040\n",
            "Epoch 15/75\n",
            "110/110 [==============================] - 0s 4ms/step - loss: 0.7291 - accuracy: 0.9005\n",
            "Epoch 16/75\n",
            "110/110 [==============================] - 0s 4ms/step - loss: 0.7176 - accuracy: 0.9036\n",
            "Epoch 17/75\n",
            "110/110 [==============================] - 1s 5ms/step - loss: 0.7042 - accuracy: 0.9066\n",
            "Epoch 18/75\n",
            "110/110 [==============================] - 1s 5ms/step - loss: 0.6956 - accuracy: 0.9056\n",
            "Epoch 19/75\n",
            "110/110 [==============================] - 0s 4ms/step - loss: 0.6810 - accuracy: 0.9124\n",
            "Epoch 20/75\n",
            "110/110 [==============================] - 0s 4ms/step - loss: 0.6716 - accuracy: 0.9139\n",
            "Epoch 21/75\n",
            "110/110 [==============================] - 0s 4ms/step - loss: 0.6651 - accuracy: 0.9134\n",
            "Epoch 22/75\n",
            "110/110 [==============================] - 1s 5ms/step - loss: 0.6583 - accuracy: 0.9146\n",
            "Epoch 23/75\n",
            "110/110 [==============================] - 1s 5ms/step - loss: 0.6497 - accuracy: 0.9123\n",
            "Epoch 24/75\n",
            "110/110 [==============================] - 0s 5ms/step - loss: 0.6410 - accuracy: 0.9144\n",
            "Epoch 25/75\n",
            "110/110 [==============================] - 1s 5ms/step - loss: 0.6391 - accuracy: 0.9126\n",
            "Epoch 26/75\n",
            "110/110 [==============================] - 1s 5ms/step - loss: 0.6387 - accuracy: 0.9124\n",
            "Epoch 27/75\n",
            "110/110 [==============================] - 1s 5ms/step - loss: 0.6232 - accuracy: 0.9169\n",
            "Epoch 28/75\n",
            "110/110 [==============================] - 1s 5ms/step - loss: 0.6161 - accuracy: 0.9173\n",
            "Epoch 29/75\n",
            "110/110 [==============================] - 1s 5ms/step - loss: 0.6107 - accuracy: 0.9171\n",
            "Epoch 30/75\n",
            "110/110 [==============================] - 1s 5ms/step - loss: 0.6112 - accuracy: 0.9161\n",
            "Epoch 31/75\n",
            "110/110 [==============================] - 1s 5ms/step - loss: 0.6000 - accuracy: 0.9205\n",
            "Epoch 32/75\n",
            "110/110 [==============================] - 0s 4ms/step - loss: 0.6015 - accuracy: 0.9173\n",
            "Epoch 33/75\n",
            "110/110 [==============================] - 1s 5ms/step - loss: 0.5948 - accuracy: 0.9199\n",
            "Epoch 34/75\n",
            "110/110 [==============================] - 0s 4ms/step - loss: 0.5824 - accuracy: 0.9232\n",
            "Epoch 35/75\n",
            "110/110 [==============================] - 0s 4ms/step - loss: 0.5861 - accuracy: 0.9181\n",
            "Epoch 36/75\n",
            "110/110 [==============================] - 0s 4ms/step - loss: 0.5711 - accuracy: 0.9242\n",
            "Epoch 37/75\n",
            "110/110 [==============================] - 0s 4ms/step - loss: 0.5713 - accuracy: 0.9237\n",
            "Epoch 38/75\n",
            "110/110 [==============================] - 0s 4ms/step - loss: 0.5698 - accuracy: 0.9234\n",
            "Epoch 39/75\n",
            "110/110 [==============================] - 0s 4ms/step - loss: 0.5642 - accuracy: 0.9214\n",
            "Epoch 40/75\n",
            "110/110 [==============================] - 0s 4ms/step - loss: 0.5652 - accuracy: 0.9270\n",
            "Epoch 41/75\n",
            "110/110 [==============================] - 0s 4ms/step - loss: 0.5603 - accuracy: 0.9234\n",
            "Epoch 42/75\n",
            "110/110 [==============================] - 1s 5ms/step - loss: 0.5604 - accuracy: 0.9231\n",
            "Epoch 43/75\n",
            "110/110 [==============================] - 0s 4ms/step - loss: 0.5547 - accuracy: 0.9206\n",
            "Epoch 44/75\n",
            "110/110 [==============================] - 1s 5ms/step - loss: 0.5517 - accuracy: 0.9261\n",
            "Epoch 45/75\n",
            "110/110 [==============================] - 0s 4ms/step - loss: 0.5418 - accuracy: 0.9242\n",
            "Epoch 46/75\n",
            "110/110 [==============================] - 0s 4ms/step - loss: 0.5434 - accuracy: 0.9269\n",
            "Epoch 47/75\n",
            "110/110 [==============================] - 0s 4ms/step - loss: 0.5373 - accuracy: 0.9269\n",
            "Epoch 48/75\n",
            "110/110 [==============================] - 0s 4ms/step - loss: 0.5449 - accuracy: 0.9223\n",
            "Epoch 49/75\n",
            "110/110 [==============================] - 0s 4ms/step - loss: 0.5284 - accuracy: 0.9299\n",
            "Epoch 50/75\n",
            "110/110 [==============================] - 0s 4ms/step - loss: 0.5299 - accuracy: 0.9296\n",
            "Epoch 51/75\n",
            "110/110 [==============================] - 0s 4ms/step - loss: 0.5287 - accuracy: 0.9276\n",
            "Epoch 52/75\n",
            "110/110 [==============================] - 0s 4ms/step - loss: 0.5277 - accuracy: 0.9274\n",
            "Epoch 53/75\n",
            "110/110 [==============================] - 0s 4ms/step - loss: 0.5209 - accuracy: 0.9286\n",
            "Epoch 54/75\n",
            "110/110 [==============================] - 0s 4ms/step - loss: 0.5209 - accuracy: 0.9264\n",
            "Epoch 55/75\n",
            "110/110 [==============================] - 0s 5ms/step - loss: 0.5210 - accuracy: 0.9276\n",
            "Epoch 56/75\n",
            "110/110 [==============================] - 1s 5ms/step - loss: 0.5196 - accuracy: 0.9278\n",
            "Epoch 57/75\n",
            "110/110 [==============================] - 0s 4ms/step - loss: 0.5124 - accuracy: 0.9269\n",
            "Epoch 58/75\n",
            "110/110 [==============================] - 1s 5ms/step - loss: 0.5094 - accuracy: 0.9303\n",
            "Epoch 59/75\n",
            "110/110 [==============================] - 1s 5ms/step - loss: 0.5132 - accuracy: 0.9272\n",
            "Epoch 60/75\n",
            "110/110 [==============================] - 0s 4ms/step - loss: 0.5151 - accuracy: 0.9275\n",
            "Epoch 61/75\n",
            "110/110 [==============================] - 0s 4ms/step - loss: 0.5036 - accuracy: 0.9287\n",
            "Epoch 62/75\n",
            "110/110 [==============================] - 1s 5ms/step - loss: 0.4964 - accuracy: 0.9326\n",
            "Epoch 63/75\n",
            "110/110 [==============================] - 0s 4ms/step - loss: 0.4976 - accuracy: 0.9307\n",
            "Epoch 64/75\n",
            "110/110 [==============================] - 0s 4ms/step - loss: 0.5035 - accuracy: 0.9285\n",
            "Epoch 65/75\n",
            "110/110 [==============================] - 1s 5ms/step - loss: 0.4956 - accuracy: 0.9314\n",
            "Epoch 66/75\n",
            "110/110 [==============================] - 1s 5ms/step - loss: 0.5027 - accuracy: 0.9284\n",
            "Epoch 67/75\n",
            "110/110 [==============================] - 0s 4ms/step - loss: 0.4922 - accuracy: 0.9306\n",
            "Epoch 68/75\n",
            "110/110 [==============================] - 1s 5ms/step - loss: 0.4855 - accuracy: 0.9335\n",
            "Epoch 69/75\n",
            "110/110 [==============================] - 1s 5ms/step - loss: 0.4843 - accuracy: 0.9323\n",
            "Epoch 70/75\n",
            "110/110 [==============================] - 1s 5ms/step - loss: 0.4831 - accuracy: 0.9343\n",
            "Epoch 71/75\n",
            "110/110 [==============================] - 1s 5ms/step - loss: 0.4997 - accuracy: 0.9271\n",
            "Epoch 72/75\n",
            "110/110 [==============================] - 1s 5ms/step - loss: 0.4773 - accuracy: 0.9319\n",
            "Epoch 73/75\n",
            "110/110 [==============================] - 1s 5ms/step - loss: 0.4872 - accuracy: 0.9296\n",
            "Epoch 74/75\n",
            "110/110 [==============================] - 1s 5ms/step - loss: 0.4874 - accuracy: 0.9311\n",
            "Epoch 75/75\n",
            "110/110 [==============================] - 0s 4ms/step - loss: 0.4766 - accuracy: 0.9351\n",
            "Training complete!\n"
          ]
        }
      ]
    },
    {
      "cell_type": "markdown",
      "metadata": {
        "id": "8w7UIdtIWuCD"
      },
      "source": [
        "\n",
        "\n",
        "---\n",
        "\n",
        "\n",
        "## Training results\n",
        "\n",
        "The training results look promising, with a decent accuracy (around 93%) and loss value (not that low, but seems fine considering the results in the following validation step). These results are considered \"promising\" since we must remember that we are only using a fully-connected feed-forward neural network, and so we are not exploiting the true power of deep learning for image classification, which is the usage of convolutional layers. "
      ]
    },
    {
      "cell_type": "code",
      "metadata": {
        "id": "4brGmh1BJbsL",
        "colab": {
          "base_uri": "https://localhost:8080/"
        },
        "outputId": "0a8eedf5-70bb-445a-bc45-c12c75bd7e8b"
      },
      "source": [
        "# Show results\n",
        "accuracy = network_history.history[\"accuracy\"][-1]\n",
        "print(\"Accuracy percentage =\", round(accuracy, 6) * 100)\n",
        "loss = network_history.history[\"loss\"][-1]\n",
        "print(\"Loss =\", loss)"
      ],
      "execution_count": 105,
      "outputs": [
        {
          "output_type": "stream",
          "name": "stdout",
          "text": [
            "Accuracy percentage = 93.5071\n",
            "Loss = 0.47655725479125977\n"
          ]
        }
      ]
    },
    {
      "cell_type": "markdown",
      "metadata": {
        "id": "fC4fkcJZHOjj"
      },
      "source": [
        "In the following plots it can be seen how after 75 epochs, the results of both loss and accuracy tend to converge to those previously shown values. I tried to train the model with higher number of epochs but at 75 the convergence looked fine."
      ]
    },
    {
      "cell_type": "code",
      "metadata": {
        "colab": {
          "base_uri": "https://localhost:8080/",
          "height": 541
        },
        "id": "pDua1vn7GaYF",
        "outputId": "f8b3cc26-42dd-4a0b-fac7-3dae104af7b9"
      },
      "source": [
        "# Plot results\n",
        "x_plot = list(range(1, n_epochs + 1))\n",
        "# Loss\n",
        "plt.figure()\n",
        "plt.xlabel('Epochs')\n",
        "plt.ylabel('Loss')\n",
        "plt.plot(x_plot, network_history.history['loss'], color = \"dodgerblue\")\n",
        "plt.legend(['Training'])\n",
        "# Accuracy\n",
        "plt.figure()\n",
        "plt.xlabel('Epochs')\n",
        "plt.ylabel('Accuracy')\n",
        "plt.plot(x_plot, network_history.history['accuracy'], color = \"dodgerblue\")\n",
        "plt.legend(['Training'], loc='lower right')\n",
        "plt.show()"
      ],
      "execution_count": 44,
      "outputs": [
        {
          "output_type": "display_data",
          "data": {
            "image/png": "[encoded data removed]",
            "text/plain": [
              "<Figure size 432x288 with 1 Axes>"
            ]
          },
          "metadata": {
            "needs_background": "light"
          }
        },
        {
          "output_type": "display_data",
          "data": {
            "image/png": "[encoded data removed]",
            "text/plain": [
              "<Figure size 432x288 with 1 Axes>"
            ]
          },
          "metadata": {
            "needs_background": "light"
          }
        }
      ]
    },
    {
      "cell_type": "markdown",
      "metadata": {
        "id": "2jiOZzvyJbsN"
      },
      "source": [
        "\n",
        "\n",
        "---\n",
        "\n",
        "\n",
        "## Validation\n",
        "\n",
        "For the validation step I decided to use (almost) every metric available in Keras. The ones that are the most meaningful in my opinion are *sensitivity* and *specificity*, since they give information about the capacity of the model to recognize *actual positives* and *actual negatives* respectively. Strong differences in the values of these two metrics may give important information about the quality of both the model and the data. For example, there may be a strong imbalance in the positive/negative samples of the dataset considered.\n",
        "\n",
        "This is not the case, since both these values are very similar to each other, in the training as in the validation as well."
      ]
    },
    {
      "cell_type": "code",
      "metadata": {
        "id": "sgGlAIaEJbsO"
      },
      "source": [
        "# Split training set into train and validation\n",
        "x_train, x_val, y_train, y_val = train_test_split(X_train, Y_train)\n",
        "# Set the metrics\n",
        "metrics_list = [\n",
        "      metrics.BinaryAccuracy(name = 'accuracy'),\n",
        "      metrics.Precision(name = 'precision'),\n",
        "      metrics.Recall(name = 'recall'),\n",
        "      metrics.SensitivityAtSpecificity(0.9, name = 'sensitivity'),\n",
        "      metrics.SpecificityAtSensitivity(0.9, name = 'specificity')\n",
        "]"
      ],
      "execution_count": 98,
      "outputs": []
    },
    {
      "cell_type": "code",
      "metadata": {
        "id": "n5KKatvcGknq",
        "colab": {
          "base_uri": "https://localhost:8080/"
        },
        "outputId": "982a1986-b10a-44ed-fb42-2383d368411c"
      },
      "source": [
        "# Compile\n",
        "model.compile(optimizer = optimizer, loss = \"categorical_crossentropy\",\n",
        "              metrics = metrics_list)\n",
        "# Train and validate\n",
        "network_history = model.fit(x_train, y_train, batch_size = batch_size, epochs = n_epochs,\n",
        "                            verbose = 2, validation_data = (x_val, y_val))"
      ],
      "execution_count": 99,
      "outputs": [
        {
          "output_type": "stream",
          "name": "stdout",
          "text": [
            "Epoch 1/75\n",
            "83/83 - 2s - loss: 0.4567 - accuracy: 0.9872 - precision: 0.9491 - recall: 0.9076 - sensitivity: 0.9937 - specificity: 0.9955 - val_loss: 0.4049 - val_accuracy: 0.9897 - val_precision: 0.9581 - val_recall: 0.9277 - val_sensitivity: 0.9960 - val_specificity: 0.9978 - 2s/epoch - 23ms/step\n",
            "Epoch 2/75\n",
            "83/83 - 0s - loss: 0.4403 - accuracy: 0.9876 - precision: 0.9504 - recall: 0.9113 - sensitivity: 0.9948 - specificity: 0.9960 - val_loss: 0.3966 - val_accuracy: 0.9910 - val_precision: 0.9655 - val_recall: 0.9349 - val_sensitivity: 0.9954 - val_specificity: 0.9980 - 425ms/epoch - 5ms/step\n",
            "Epoch 3/75\n",
            "83/83 - 0s - loss: 0.4410 - accuracy: 0.9879 - precision: 0.9522 - recall: 0.9124 - sensitivity: 0.9959 - specificity: 0.9961 - val_loss: 0.4597 - val_accuracy: 0.9862 - val_precision: 0.9393 - val_recall: 0.9063 - val_sensitivity: 0.9940 - val_specificity: 0.9948 - 422ms/epoch - 5ms/step\n",
            "Epoch 4/75\n",
            "83/83 - 0s - loss: 0.4263 - accuracy: 0.9883 - precision: 0.9531 - recall: 0.9163 - sensitivity: 0.9959 - specificity: 0.9966 - val_loss: 0.4489 - val_accuracy: 0.9873 - val_precision: 0.9482 - val_recall: 0.9097 - val_sensitivity: 0.9914 - val_specificity: 0.9956 - 495ms/epoch - 6ms/step\n",
            "Epoch 5/75\n",
            "83/83 - 1s - loss: 0.4242 - accuracy: 0.9882 - precision: 0.9542 - recall: 0.9137 - sensitivity: 0.9968 - specificity: 0.9965 - val_loss: 0.4526 - val_accuracy: 0.9873 - val_precision: 0.9493 - val_recall: 0.9089 - val_sensitivity: 0.9923 - val_specificity: 0.9955 - 538ms/epoch - 6ms/step\n",
            "Epoch 6/75\n",
            "83/83 - 1s - loss: 0.5039 - accuracy: 0.9847 - precision: 0.9372 - recall: 0.8910 - sensitivity: 0.9937 - specificity: 0.9931 - val_loss: 0.4621 - val_accuracy: 0.9877 - val_precision: 0.9485 - val_recall: 0.9149 - val_sensitivity: 0.9934 - val_specificity: 0.9960 - 508ms/epoch - 6ms/step\n",
            "Epoch 7/75\n",
            "83/83 - 1s - loss: 0.4310 - accuracy: 0.9888 - precision: 0.9554 - recall: 0.9197 - sensitivity: 0.9964 - specificity: 0.9967 - val_loss: 0.4608 - val_accuracy: 0.9872 - val_precision: 0.9476 - val_recall: 0.9100 - val_sensitivity: 0.9909 - val_specificity: 0.9956 - 516ms/epoch - 6ms/step\n",
            "Epoch 8/75\n",
            "83/83 - 0s - loss: 0.4290 - accuracy: 0.9880 - precision: 0.9532 - recall: 0.9133 - sensitivity: 0.9961 - specificity: 0.9964 - val_loss: 0.4490 - val_accuracy: 0.9877 - val_precision: 0.9508 - val_recall: 0.9114 - val_sensitivity: 0.9894 - val_specificity: 0.9961 - 467ms/epoch - 6ms/step\n",
            "Epoch 9/75\n",
            "83/83 - 1s - loss: 0.4178 - accuracy: 0.9886 - precision: 0.9540 - recall: 0.9186 - sensitivity: 0.9963 - specificity: 0.9966 - val_loss: 0.4594 - val_accuracy: 0.9863 - val_precision: 0.9428 - val_recall: 0.9046 - val_sensitivity: 0.9894 - val_specificity: 0.9947 - 532ms/epoch - 6ms/step\n",
            "Epoch 10/75\n",
            "83/83 - 1s - loss: 0.4076 - accuracy: 0.9891 - precision: 0.9583 - recall: 0.9207 - sensitivity: 0.9958 - specificity: 0.9972 - val_loss: 0.4537 - val_accuracy: 0.9871 - val_precision: 0.9447 - val_recall: 0.9120 - val_sensitivity: 0.9894 - val_specificity: 0.9959 - 522ms/epoch - 6ms/step\n",
            "Epoch 11/75\n",
            "83/83 - 0s - loss: 0.4198 - accuracy: 0.9882 - precision: 0.9530 - recall: 0.9149 - sensitivity: 0.9959 - specificity: 0.9964 - val_loss: 0.4552 - val_accuracy: 0.9869 - val_precision: 0.9432 - val_recall: 0.9103 - val_sensitivity: 0.9911 - val_specificity: 0.9953 - 452ms/epoch - 5ms/step\n",
            "Epoch 12/75\n",
            "83/83 - 0s - loss: 0.4168 - accuracy: 0.9890 - precision: 0.9569 - recall: 0.9203 - sensitivity: 0.9963 - specificity: 0.9971 - val_loss: 0.4752 - val_accuracy: 0.9858 - val_precision: 0.9362 - val_recall: 0.9051 - val_sensitivity: 0.9883 - val_specificity: 0.9942 - 495ms/epoch - 6ms/step\n",
            "Epoch 13/75\n",
            "83/83 - 1s - loss: 0.4465 - accuracy: 0.9867 - precision: 0.9452 - recall: 0.9059 - sensitivity: 0.9953 - specificity: 0.9952 - val_loss: 0.4628 - val_accuracy: 0.9867 - val_precision: 0.9449 - val_recall: 0.9069 - val_sensitivity: 0.9897 - val_specificity: 0.9951 - 535ms/epoch - 6ms/step\n",
            "Epoch 14/75\n",
            "83/83 - 0s - loss: 0.4103 - accuracy: 0.9888 - precision: 0.9549 - recall: 0.9205 - sensitivity: 0.9983 - specificity: 0.9967 - val_loss: 0.5092 - val_accuracy: 0.9840 - val_precision: 0.9276 - val_recall: 0.8934 - val_sensitivity: 0.9880 - val_specificity: 0.9921 - 451ms/epoch - 5ms/step\n",
            "Epoch 15/75\n",
            "83/83 - 0s - loss: 0.4865 - accuracy: 0.9852 - precision: 0.9387 - recall: 0.8962 - sensitivity: 0.9926 - specificity: 0.9937 - val_loss: 0.4882 - val_accuracy: 0.9864 - val_precision: 0.9421 - val_recall: 0.9063 - val_sensitivity: 0.9891 - val_specificity: 0.9947 - 496ms/epoch - 6ms/step\n",
            "Epoch 16/75\n",
            "83/83 - 0s - loss: 0.4631 - accuracy: 0.9872 - precision: 0.9488 - recall: 0.9084 - sensitivity: 0.9944 - specificity: 0.9957 - val_loss: 0.4821 - val_accuracy: 0.9860 - val_precision: 0.9408 - val_recall: 0.9029 - val_sensitivity: 0.9891 - val_specificity: 0.9945 - 425ms/epoch - 5ms/step\n",
            "Epoch 17/75\n",
            "83/83 - 0s - loss: 0.4163 - accuracy: 0.9886 - precision: 0.9540 - recall: 0.9190 - sensitivity: 0.9971 - specificity: 0.9968 - val_loss: 0.4809 - val_accuracy: 0.9856 - val_precision: 0.9389 - val_recall: 0.8997 - val_sensitivity: 0.9906 - val_specificity: 0.9941 - 427ms/epoch - 5ms/step\n",
            "Epoch 18/75\n",
            "83/83 - 1s - loss: 0.4083 - accuracy: 0.9893 - precision: 0.9568 - recall: 0.9239 - sensitivity: 0.9961 - specificity: 0.9971 - val_loss: 0.4607 - val_accuracy: 0.9865 - val_precision: 0.9414 - val_recall: 0.9086 - val_sensitivity: 0.9909 - val_specificity: 0.9947 - 509ms/epoch - 6ms/step\n",
            "Epoch 19/75\n",
            "83/83 - 1s - loss: 0.3998 - accuracy: 0.9894 - precision: 0.9571 - recall: 0.9244 - sensitivity: 0.9970 - specificity: 0.9972 - val_loss: 0.4657 - val_accuracy: 0.9863 - val_precision: 0.9439 - val_recall: 0.9031 - val_sensitivity: 0.9889 - val_specificity: 0.9947 - 535ms/epoch - 6ms/step\n",
            "Epoch 20/75\n",
            "83/83 - 0s - loss: 0.4169 - accuracy: 0.9878 - precision: 0.9498 - recall: 0.9139 - sensitivity: 0.9964 - specificity: 0.9962 - val_loss: 0.4469 - val_accuracy: 0.9878 - val_precision: 0.9487 - val_recall: 0.9149 - val_sensitivity: 0.9920 - val_specificity: 0.9960 - 409ms/epoch - 5ms/step\n",
            "Epoch 21/75\n",
            "83/83 - 1s - loss: 0.4240 - accuracy: 0.9877 - precision: 0.9504 - recall: 0.9123 - sensitivity: 0.9969 - specificity: 0.9960 - val_loss: 0.5332 - val_accuracy: 0.9825 - val_precision: 0.9231 - val_recall: 0.8809 - val_sensitivity: 0.9866 - val_specificity: 0.9904 - 511ms/epoch - 6ms/step\n",
            "Epoch 22/75\n",
            "83/83 - 0s - loss: 0.4823 - accuracy: 0.9852 - precision: 0.9401 - recall: 0.8942 - sensitivity: 0.9919 - specificity: 0.9938 - val_loss: 0.4805 - val_accuracy: 0.9864 - val_precision: 0.9421 - val_recall: 0.9063 - val_sensitivity: 0.9909 - val_specificity: 0.9949 - 447ms/epoch - 5ms/step\n",
            "Epoch 23/75\n",
            "83/83 - 0s - loss: 0.4138 - accuracy: 0.9891 - precision: 0.9570 - recall: 0.9213 - sensitivity: 0.9966 - specificity: 0.9970 - val_loss: 0.4639 - val_accuracy: 0.9872 - val_precision: 0.9457 - val_recall: 0.9114 - val_sensitivity: 0.9900 - val_specificity: 0.9956 - 459ms/epoch - 6ms/step\n",
            "Epoch 24/75\n",
            "83/83 - 0s - loss: 0.4233 - accuracy: 0.9877 - precision: 0.9495 - recall: 0.9130 - sensitivity: 0.9957 - specificity: 0.9960 - val_loss: 0.4789 - val_accuracy: 0.9861 - val_precision: 0.9398 - val_recall: 0.9051 - val_sensitivity: 0.9877 - val_specificity: 0.9945 - 458ms/epoch - 6ms/step\n",
            "Epoch 25/75\n",
            "83/83 - 0s - loss: 0.4033 - accuracy: 0.9894 - precision: 0.9579 - recall: 0.9243 - sensitivity: 0.9965 - specificity: 0.9973 - val_loss: 0.4885 - val_accuracy: 0.9850 - val_precision: 0.9341 - val_recall: 0.8986 - val_sensitivity: 0.9891 - val_specificity: 0.9936 - 448ms/epoch - 5ms/step\n",
            "Epoch 26/75\n",
            "83/83 - 1s - loss: 0.4182 - accuracy: 0.9883 - precision: 0.9526 - recall: 0.9171 - sensitivity: 0.9957 - specificity: 0.9965 - val_loss: 0.4704 - val_accuracy: 0.9855 - val_precision: 0.9375 - val_recall: 0.9003 - val_sensitivity: 0.9903 - val_specificity: 0.9941 - 518ms/epoch - 6ms/step\n",
            "Epoch 27/75\n",
            "83/83 - 1s - loss: 0.4099 - accuracy: 0.9888 - precision: 0.9552 - recall: 0.9196 - sensitivity: 0.9970 - specificity: 0.9968 - val_loss: 0.4615 - val_accuracy: 0.9872 - val_precision: 0.9466 - val_recall: 0.9109 - val_sensitivity: 0.9877 - val_specificity: 0.9953 - 553ms/epoch - 7ms/step\n",
            "Epoch 28/75\n",
            "83/83 - 0s - loss: 0.3932 - accuracy: 0.9895 - precision: 0.9578 - recall: 0.9252 - sensitivity: 0.9969 - specificity: 0.9973 - val_loss: 0.4535 - val_accuracy: 0.9867 - val_precision: 0.9404 - val_recall: 0.9111 - val_sensitivity: 0.9906 - val_specificity: 0.9951 - 443ms/epoch - 5ms/step\n",
            "Epoch 29/75\n",
            "83/83 - 1s - loss: 0.3949 - accuracy: 0.9895 - precision: 0.9573 - recall: 0.9262 - sensitivity: 0.9963 - specificity: 0.9970 - val_loss: 0.4839 - val_accuracy: 0.9844 - val_precision: 0.9313 - val_recall: 0.8949 - val_sensitivity: 0.9894 - val_specificity: 0.9926 - 529ms/epoch - 6ms/step\n",
            "Epoch 30/75\n",
            "83/83 - 1s - loss: 0.4036 - accuracy: 0.9893 - precision: 0.9573 - recall: 0.9230 - sensitivity: 0.9970 - specificity: 0.9970 - val_loss: 0.5010 - val_accuracy: 0.9835 - val_precision: 0.9257 - val_recall: 0.8900 - val_sensitivity: 0.9880 - val_specificity: 0.9919 - 514ms/epoch - 6ms/step\n",
            "Epoch 31/75\n",
            "83/83 - 0s - loss: 0.4549 - accuracy: 0.9867 - precision: 0.9482 - recall: 0.9033 - sensitivity: 0.9943 - specificity: 0.9953 - val_loss: 0.4840 - val_accuracy: 0.9859 - val_precision: 0.9383 - val_recall: 0.9040 - val_sensitivity: 0.9880 - val_specificity: 0.9944 - 499ms/epoch - 6ms/step\n",
            "Epoch 32/75\n",
            "83/83 - 1s - loss: 0.4187 - accuracy: 0.9886 - precision: 0.9542 - recall: 0.9183 - sensitivity: 0.9960 - specificity: 0.9967 - val_loss: 0.4725 - val_accuracy: 0.9862 - val_precision: 0.9396 - val_recall: 0.9069 - val_sensitivity: 0.9903 - val_specificity: 0.9945 - 500ms/epoch - 6ms/step\n",
            "Epoch 33/75\n",
            "83/83 - 0s - loss: 0.4049 - accuracy: 0.9894 - precision: 0.9589 - recall: 0.9226 - sensitivity: 0.9968 - specificity: 0.9971 - val_loss: 0.4810 - val_accuracy: 0.9863 - val_precision: 0.9425 - val_recall: 0.9040 - val_sensitivity: 0.9886 - val_specificity: 0.9947 - 455ms/epoch - 5ms/step\n",
            "Epoch 34/75\n",
            "83/83 - 0s - loss: 0.4560 - accuracy: 0.9867 - precision: 0.9454 - recall: 0.9061 - sensitivity: 0.9944 - specificity: 0.9951 - val_loss: 0.4728 - val_accuracy: 0.9863 - val_precision: 0.9394 - val_recall: 0.9074 - val_sensitivity: 0.9900 - val_specificity: 0.9951 - 417ms/epoch - 5ms/step\n",
            "Epoch 35/75\n",
            "83/83 - 0s - loss: 0.4134 - accuracy: 0.9887 - precision: 0.9540 - recall: 0.9206 - sensitivity: 0.9964 - specificity: 0.9967 - val_loss: 0.4829 - val_accuracy: 0.9855 - val_precision: 0.9352 - val_recall: 0.9034 - val_sensitivity: 0.9874 - val_specificity: 0.9942 - 446ms/epoch - 5ms/step\n",
            "Epoch 36/75\n",
            "83/83 - 0s - loss: 0.4035 - accuracy: 0.9891 - precision: 0.9575 - recall: 0.9213 - sensitivity: 0.9969 - specificity: 0.9971 - val_loss: 0.4571 - val_accuracy: 0.9864 - val_precision: 0.9407 - val_recall: 0.9071 - val_sensitivity: 0.9886 - val_specificity: 0.9949 - 436ms/epoch - 5ms/step\n",
            "Epoch 37/75\n",
            "83/83 - 1s - loss: 0.3902 - accuracy: 0.9893 - precision: 0.9554 - recall: 0.9250 - sensitivity: 0.9970 - specificity: 0.9971 - val_loss: 0.4629 - val_accuracy: 0.9864 - val_precision: 0.9421 - val_recall: 0.9063 - val_sensitivity: 0.9900 - val_specificity: 0.9946 - 514ms/epoch - 6ms/step\n",
            "Epoch 38/75\n",
            "83/83 - 1s - loss: 0.3960 - accuracy: 0.9887 - precision: 0.9550 - recall: 0.9188 - sensitivity: 0.9973 - specificity: 0.9970 - val_loss: 0.4912 - val_accuracy: 0.9842 - val_precision: 0.9311 - val_recall: 0.8923 - val_sensitivity: 0.9886 - val_specificity: 0.9925 - 525ms/epoch - 6ms/step\n",
            "Epoch 39/75\n",
            "83/83 - 0s - loss: 0.4543 - accuracy: 0.9865 - precision: 0.9440 - recall: 0.9057 - sensitivity: 0.9939 - specificity: 0.9948 - val_loss: 0.5043 - val_accuracy: 0.9843 - val_precision: 0.9287 - val_recall: 0.8966 - val_sensitivity: 0.9883 - val_specificity: 0.9929 - 408ms/epoch - 5ms/step\n",
            "Epoch 40/75\n",
            "83/83 - 0s - loss: 0.4628 - accuracy: 0.9871 - precision: 0.9476 - recall: 0.9089 - sensitivity: 0.9943 - specificity: 0.9956 - val_loss: 0.4966 - val_accuracy: 0.9853 - val_precision: 0.9358 - val_recall: 0.9000 - val_sensitivity: 0.9897 - val_specificity: 0.9938 - 440ms/epoch - 5ms/step\n",
            "Epoch 41/75\n",
            "83/83 - 1s - loss: 0.4226 - accuracy: 0.9886 - precision: 0.9527 - recall: 0.9204 - sensitivity: 0.9956 - specificity: 0.9968 - val_loss: 0.4683 - val_accuracy: 0.9866 - val_precision: 0.9404 - val_recall: 0.9103 - val_sensitivity: 0.9880 - val_specificity: 0.9953 - 514ms/epoch - 6ms/step\n",
            "Epoch 42/75\n",
            "83/83 - 1s - loss: 0.4054 - accuracy: 0.9889 - precision: 0.9556 - recall: 0.9211 - sensitivity: 0.9979 - specificity: 0.9969 - val_loss: 0.5049 - val_accuracy: 0.9833 - val_precision: 0.9270 - val_recall: 0.8857 - val_sensitivity: 0.9854 - val_specificity: 0.9916 - 537ms/epoch - 6ms/step\n",
            "Epoch 43/75\n",
            "83/83 - 1s - loss: 0.4486 - accuracy: 0.9870 - precision: 0.9477 - recall: 0.9066 - sensitivity: 0.9952 - specificity: 0.9953 - val_loss: 0.4682 - val_accuracy: 0.9869 - val_precision: 0.9421 - val_recall: 0.9114 - val_sensitivity: 0.9886 - val_specificity: 0.9951 - 534ms/epoch - 6ms/step\n",
            "Epoch 44/75\n",
            "83/83 - 0s - loss: 0.4173 - accuracy: 0.9889 - precision: 0.9544 - recall: 0.9219 - sensitivity: 0.9956 - specificity: 0.9967 - val_loss: 0.4718 - val_accuracy: 0.9862 - val_precision: 0.9386 - val_recall: 0.9077 - val_sensitivity: 0.9900 - val_specificity: 0.9949 - 451ms/epoch - 5ms/step\n",
            "Epoch 45/75\n",
            "83/83 - 0s - loss: 0.4115 - accuracy: 0.9886 - precision: 0.9541 - recall: 0.9186 - sensitivity: 0.9963 - specificity: 0.9968 - val_loss: 0.4625 - val_accuracy: 0.9857 - val_precision: 0.9380 - val_recall: 0.9029 - val_sensitivity: 0.9906 - val_specificity: 0.9943 - 429ms/epoch - 5ms/step\n",
            "Epoch 46/75\n",
            "83/83 - 0s - loss: 0.4096 - accuracy: 0.9888 - precision: 0.9557 - recall: 0.9197 - sensitivity: 0.9949 - specificity: 0.9967 - val_loss: 0.4922 - val_accuracy: 0.9846 - val_precision: 0.9296 - val_recall: 0.8986 - val_sensitivity: 0.9889 - val_specificity: 0.9928 - 457ms/epoch - 6ms/step\n",
            "Epoch 47/75\n",
            "83/83 - 1s - loss: 0.4105 - accuracy: 0.9886 - precision: 0.9550 - recall: 0.9181 - sensitivity: 0.9970 - specificity: 0.9966 - val_loss: 0.4565 - val_accuracy: 0.9871 - val_precision: 0.9452 - val_recall: 0.9114 - val_sensitivity: 0.9903 - val_specificity: 0.9953 - 537ms/epoch - 6ms/step\n",
            "Epoch 48/75\n",
            "83/83 - 0s - loss: 0.3879 - accuracy: 0.9897 - precision: 0.9581 - recall: 0.9271 - sensitivity: 0.9979 - specificity: 0.9973 - val_loss: 0.4495 - val_accuracy: 0.9868 - val_precision: 0.9426 - val_recall: 0.9097 - val_sensitivity: 0.9909 - val_specificity: 0.9951 - 433ms/epoch - 5ms/step\n",
            "Epoch 49/75\n",
            "83/83 - 0s - loss: 0.4387 - accuracy: 0.9866 - precision: 0.9432 - recall: 0.9068 - sensitivity: 0.9945 - specificity: 0.9951 - val_loss: 0.4661 - val_accuracy: 0.9862 - val_precision: 0.9393 - val_recall: 0.9066 - val_sensitivity: 0.9900 - val_specificity: 0.9946 - 458ms/epoch - 6ms/step\n",
            "Epoch 50/75\n",
            "83/83 - 0s - loss: 0.4006 - accuracy: 0.9890 - precision: 0.9550 - recall: 0.9220 - sensitivity: 0.9966 - specificity: 0.9970 - val_loss: 0.4638 - val_accuracy: 0.9869 - val_precision: 0.9416 - val_recall: 0.9126 - val_sensitivity: 0.9889 - val_specificity: 0.9953 - 426ms/epoch - 5ms/step\n",
            "Epoch 51/75\n",
            "83/83 - 0s - loss: 0.4010 - accuracy: 0.9887 - precision: 0.9529 - recall: 0.9216 - sensitivity: 0.9971 - specificity: 0.9966 - val_loss: 0.5163 - val_accuracy: 0.9836 - val_precision: 0.9293 - val_recall: 0.8869 - val_sensitivity: 0.9857 - val_specificity: 0.9921 - 409ms/epoch - 5ms/step\n",
            "Epoch 52/75\n",
            "83/83 - 1s - loss: 0.4573 - accuracy: 0.9859 - precision: 0.9437 - recall: 0.8989 - sensitivity: 0.9949 - specificity: 0.9945 - val_loss: 0.4748 - val_accuracy: 0.9867 - val_precision: 0.9386 - val_recall: 0.9131 - val_sensitivity: 0.9891 - val_specificity: 0.9951 - 513ms/epoch - 6ms/step\n",
            "Epoch 53/75\n",
            "83/83 - 1s - loss: 0.4170 - accuracy: 0.9884 - precision: 0.9526 - recall: 0.9175 - sensitivity: 0.9962 - specificity: 0.9965 - val_loss: 0.4710 - val_accuracy: 0.9858 - val_precision: 0.9370 - val_recall: 0.9051 - val_sensitivity: 0.9886 - val_specificity: 0.9943 - 503ms/epoch - 6ms/step\n",
            "Epoch 54/75\n",
            "83/83 - 1s - loss: 0.4208 - accuracy: 0.9880 - precision: 0.9503 - recall: 0.9158 - sensitivity: 0.9955 - specificity: 0.9962 - val_loss: 0.4685 - val_accuracy: 0.9861 - val_precision: 0.9398 - val_recall: 0.9054 - val_sensitivity: 0.9894 - val_specificity: 0.9948 - 507ms/epoch - 6ms/step\n",
            "Epoch 55/75\n",
            "83/83 - 0s - loss: 0.4098 - accuracy: 0.9887 - precision: 0.9543 - recall: 0.9203 - sensitivity: 0.9957 - specificity: 0.9968 - val_loss: 0.4711 - val_accuracy: 0.9860 - val_precision: 0.9371 - val_recall: 0.9071 - val_sensitivity: 0.9894 - val_specificity: 0.9944 - 421ms/epoch - 5ms/step\n",
            "Epoch 56/75\n",
            "83/83 - 1s - loss: 0.4201 - accuracy: 0.9882 - precision: 0.9527 - recall: 0.9156 - sensitivity: 0.9960 - specificity: 0.9964 - val_loss: 0.4835 - val_accuracy: 0.9858 - val_precision: 0.9346 - val_recall: 0.9069 - val_sensitivity: 0.9877 - val_specificity: 0.9943 - 522ms/epoch - 6ms/step\n",
            "Epoch 57/75\n",
            "83/83 - 1s - loss: 0.3993 - accuracy: 0.9888 - precision: 0.9556 - recall: 0.9193 - sensitivity: 0.9968 - specificity: 0.9968 - val_loss: 0.4475 - val_accuracy: 0.9866 - val_precision: 0.9417 - val_recall: 0.9094 - val_sensitivity: 0.9894 - val_specificity: 0.9951 - 518ms/epoch - 6ms/step\n",
            "Epoch 58/75\n",
            "83/83 - 0s - loss: 0.3967 - accuracy: 0.9891 - precision: 0.9559 - recall: 0.9227 - sensitivity: 0.9970 - specificity: 0.9969 - val_loss: 0.4770 - val_accuracy: 0.9851 - val_precision: 0.9329 - val_recall: 0.9014 - val_sensitivity: 0.9900 - val_specificity: 0.9937 - 468ms/epoch - 6ms/step\n",
            "Epoch 59/75\n",
            "83/83 - 1s - loss: 0.3853 - accuracy: 0.9890 - precision: 0.9531 - recall: 0.9245 - sensitivity: 0.9970 - specificity: 0.9971 - val_loss: 0.4415 - val_accuracy: 0.9865 - val_precision: 0.9416 - val_recall: 0.9080 - val_sensitivity: 0.9897 - val_specificity: 0.9951 - 518ms/epoch - 6ms/step\n",
            "Epoch 60/75\n",
            "83/83 - 0s - loss: 0.4139 - accuracy: 0.9881 - precision: 0.9521 - recall: 0.9151 - sensitivity: 0.9971 - specificity: 0.9963 - val_loss: 0.5280 - val_accuracy: 0.9824 - val_precision: 0.9177 - val_recall: 0.8857 - val_sensitivity: 0.9860 - val_specificity: 0.9899 - 490ms/epoch - 6ms/step\n",
            "Epoch 61/75\n",
            "83/83 - 0s - loss: 0.3963 - accuracy: 0.9894 - precision: 0.9560 - recall: 0.9258 - sensitivity: 0.9974 - specificity: 0.9971 - val_loss: 0.4790 - val_accuracy: 0.9851 - val_precision: 0.9313 - val_recall: 0.9026 - val_sensitivity: 0.9877 - val_specificity: 0.9937 - 432ms/epoch - 5ms/step\n",
            "Epoch 62/75\n",
            "83/83 - 0s - loss: 0.3780 - accuracy: 0.9897 - precision: 0.9584 - recall: 0.9274 - sensitivity: 0.9975 - specificity: 0.9975 - val_loss: 0.4490 - val_accuracy: 0.9864 - val_precision: 0.9397 - val_recall: 0.9089 - val_sensitivity: 0.9900 - val_specificity: 0.9948 - 448ms/epoch - 5ms/step\n",
            "Epoch 63/75\n",
            "83/83 - 1s - loss: 0.3846 - accuracy: 0.9895 - precision: 0.9580 - recall: 0.9252 - sensitivity: 0.9981 - specificity: 0.9972 - val_loss: 0.4658 - val_accuracy: 0.9857 - val_precision: 0.9374 - val_recall: 0.9034 - val_sensitivity: 0.9894 - val_specificity: 0.9942 - 512ms/epoch - 6ms/step\n",
            "Epoch 64/75\n",
            "83/83 - 1s - loss: 0.4227 - accuracy: 0.9876 - precision: 0.9478 - recall: 0.9144 - sensitivity: 0.9949 - specificity: 0.9959 - val_loss: 0.4639 - val_accuracy: 0.9863 - val_precision: 0.9391 - val_recall: 0.9077 - val_sensitivity: 0.9894 - val_specificity: 0.9950 - 511ms/epoch - 6ms/step\n",
            "Epoch 65/75\n",
            "83/83 - 0s - loss: 0.4229 - accuracy: 0.9879 - precision: 0.9504 - recall: 0.9143 - sensitivity: 0.9950 - specificity: 0.9962 - val_loss: 0.4754 - val_accuracy: 0.9860 - val_precision: 0.9379 - val_recall: 0.9060 - val_sensitivity: 0.9880 - val_specificity: 0.9945 - 488ms/epoch - 6ms/step\n",
            "Epoch 66/75\n",
            "83/83 - 1s - loss: 0.3936 - accuracy: 0.9891 - precision: 0.9551 - recall: 0.9230 - sensitivity: 0.9973 - specificity: 0.9972 - val_loss: 0.4746 - val_accuracy: 0.9849 - val_precision: 0.9356 - val_recall: 0.8960 - val_sensitivity: 0.9877 - val_specificity: 0.9930 - 512ms/epoch - 6ms/step\n",
            "Epoch 67/75\n",
            "83/83 - 0s - loss: 0.4073 - accuracy: 0.9881 - precision: 0.9512 - recall: 0.9158 - sensitivity: 0.9969 - specificity: 0.9965 - val_loss: 0.4666 - val_accuracy: 0.9856 - val_precision: 0.9374 - val_recall: 0.9023 - val_sensitivity: 0.9883 - val_specificity: 0.9943 - 433ms/epoch - 5ms/step\n",
            "Epoch 68/75\n",
            "83/83 - 0s - loss: 0.3885 - accuracy: 0.9892 - precision: 0.9572 - recall: 0.9230 - sensitivity: 0.9977 - specificity: 0.9972 - val_loss: 0.4636 - val_accuracy: 0.9859 - val_precision: 0.9368 - val_recall: 0.9060 - val_sensitivity: 0.9871 - val_specificity: 0.9945 - 423ms/epoch - 5ms/step\n",
            "Epoch 69/75\n",
            "83/83 - 0s - loss: 0.3780 - accuracy: 0.9897 - precision: 0.9592 - recall: 0.9267 - sensitivity: 0.9982 - specificity: 0.9975 - val_loss: 0.4679 - val_accuracy: 0.9851 - val_precision: 0.9336 - val_recall: 0.9003 - val_sensitivity: 0.9871 - val_specificity: 0.9935 - 490ms/epoch - 6ms/step\n",
            "Epoch 70/75\n",
            "83/83 - 0s - loss: 0.3809 - accuracy: 0.9899 - precision: 0.9588 - recall: 0.9283 - sensitivity: 0.9970 - specificity: 0.9975 - val_loss: 0.4544 - val_accuracy: 0.9868 - val_precision: 0.9403 - val_recall: 0.9131 - val_sensitivity: 0.9880 - val_specificity: 0.9949 - 485ms/epoch - 6ms/step\n",
            "Epoch 71/75\n",
            "83/83 - 1s - loss: 0.3765 - accuracy: 0.9896 - precision: 0.9569 - recall: 0.9269 - sensitivity: 0.9978 - specificity: 0.9976 - val_loss: 0.4704 - val_accuracy: 0.9853 - val_precision: 0.9353 - val_recall: 0.9009 - val_sensitivity: 0.9869 - val_specificity: 0.9938 - 516ms/epoch - 6ms/step\n",
            "Epoch 72/75\n",
            "83/83 - 1s - loss: 0.3838 - accuracy: 0.9893 - precision: 0.9563 - recall: 0.9246 - sensitivity: 0.9976 - specificity: 0.9972 - val_loss: 0.4581 - val_accuracy: 0.9853 - val_precision: 0.9358 - val_recall: 0.8997 - val_sensitivity: 0.9900 - val_specificity: 0.9938 - 503ms/epoch - 6ms/step\n",
            "Epoch 73/75\n",
            "83/83 - 0s - loss: 0.3772 - accuracy: 0.9894 - precision: 0.9568 - recall: 0.9253 - sensitivity: 0.9980 - specificity: 0.9971 - val_loss: 0.4497 - val_accuracy: 0.9869 - val_precision: 0.9458 - val_recall: 0.9080 - val_sensitivity: 0.9891 - val_specificity: 0.9952 - 465ms/epoch - 6ms/step\n",
            "Epoch 74/75\n",
            "83/83 - 0s - loss: 0.3890 - accuracy: 0.9890 - precision: 0.9552 - recall: 0.9228 - sensitivity: 0.9969 - specificity: 0.9970 - val_loss: 0.4741 - val_accuracy: 0.9847 - val_precision: 0.9318 - val_recall: 0.8974 - val_sensitivity: 0.9874 - val_specificity: 0.9931 - 455ms/epoch - 5ms/step\n",
            "Epoch 75/75\n",
            "83/83 - 0s - loss: 0.3770 - accuracy: 0.9898 - precision: 0.9583 - recall: 0.9285 - sensitivity: 0.9974 - specificity: 0.9974 - val_loss: 0.4570 - val_accuracy: 0.9860 - val_precision: 0.9387 - val_recall: 0.9054 - val_sensitivity: 0.9883 - val_specificity: 0.9946 - 467ms/epoch - 6ms/step\n"
          ]
        }
      ]
    },
    {
      "cell_type": "code",
      "metadata": {
        "id": "dP-t1cqfGqm_",
        "colab": {
          "base_uri": "https://localhost:8080/"
        },
        "outputId": "0a55ac92-deee-4048-f403-509d4c89d917"
      },
      "source": [
        "# Show results\n",
        "print(\"Training:\")\n",
        "accuracy = network_history.history['accuracy'][-1]\n",
        "precision = network_history.history['precision'][-1]\n",
        "recall = network_history.history['recall'][-1]\n",
        "specificity = network_history.history['specificity'][-1]\n",
        "sensitivity = network_history.history['sensitivity'][-1]\n",
        "loss = network_history.history['loss'][-1]\n",
        "print(\"Accuracy =\", accuracy, \"(\", round(accuracy, 4) * 100, \"% )\")\n",
        "print(\"Precision =\", precision)\n",
        "print(\"Recall =\", recall)\n",
        "print(\"F1 score =\", 2 * ((precision * recall) / (precision + recall)))\n",
        "print(\"Specificity =\", specificity)\n",
        "print(\"sensitivity =\", sensitivity)\n",
        "print(\"Loss =\", loss, \"\\n\")\n",
        "\n",
        "print(\"Validation:\")\n",
        "val_accuracy = network_history.history['val_accuracy'][-1]\n",
        "val_precision = network_history.history['val_precision'][-1]\n",
        "val_recall = network_history.history['val_recall'][-1]\n",
        "val_specificity = network_history.history['val_specificity'][-1]\n",
        "val_sensitivity = network_history.history['val_sensitivity'][-1]\n",
        "val_loss = network_history.history['val_loss'][-1]\n",
        "print(\"Validation accuracy =\", val_accuracy, \"(\", round(val_accuracy, 4) * 100, \"% )\")\n",
        "print(\"Validation precision =\", val_precision)\n",
        "print(\"Validation recall =\", val_recall)\n",
        "print(\"F1 score =\", 2 * ((val_precision * val_recall) / (val_precision + val_recall)))\n",
        "print(\"Specificity =\", val_specificity)\n",
        "print(\"sensitivity =\", val_sensitivity)\n",
        "print(\"Loss =\", val_loss)"
      ],
      "execution_count": 100,
      "outputs": [
        {
          "output_type": "stream",
          "name": "stdout",
          "text": [
            "Training:\n",
            "Accuracy = 0.9898267388343811 ( 98.98 % )\n",
            "Precision = 0.9583210349082947\n",
            "Recall = 0.9284762144088745\n",
            "F1 score = 0.9431625862313066\n",
            "Specificity = 0.9973618984222412\n",
            "sensitivity = 0.9974285960197449\n",
            "Loss = 0.3769623935222626 \n",
            "\n",
            "Validation:\n",
            "Validation accuracy = 0.9860259890556335 ( 98.6 % )\n",
            "Validation precision = 0.9386848211288452\n",
            "Validation recall = 0.9054285883903503\n",
            "F1 score = 0.9217568378939679\n",
            "Specificity = 0.9946285486221313\n",
            "sensitivity = 0.9882857203483582\n",
            "Loss = 0.45701682567596436\n"
          ]
        }
      ]
    },
    {
      "cell_type": "markdown",
      "metadata": {
        "id": "nheNa8hTR26h"
      },
      "source": [
        "The high performances reached by the model made me think immediately that the model was strongly overfitting, mostly considering the kind of network we are using (which has no convolutional layers). But given the plots below, we can clearly see that there is no trace of overfitting (and neither underfitting), since the two trends of accuracy and loss for training and validation look really consistent with each other. I have to conclude that either the model I built is pretty efficient given the task and the data we are considering, or the task itself (given this particular data) is \"easy\"."
      ]
    },
    {
      "cell_type": "code",
      "metadata": {
        "id": "4EuWfz0SGrot",
        "colab": {
          "base_uri": "https://localhost:8080/",
          "height": 542
        },
        "outputId": "1c9fe837-3418-4213-ca5c-ae4d973229d7"
      },
      "source": [
        "# Plot results\n",
        "x_plot = list(range(1, n_epochs + 1))\n",
        "# Loss\n",
        "plt.figure()\n",
        "plt.xlabel('Epochs')\n",
        "plt.ylabel('Loss')\n",
        "plt.plot(x_plot, network_history.history['loss'], color = \"dodgerblue\")\n",
        "plt.plot(x_plot, network_history.history['val_loss'], color = \"orangered\")\n",
        "plt.legend(['Training', 'Validation'])\n",
        "# Accuracy\n",
        "plt.figure()\n",
        "plt.xlabel('Epochs')\n",
        "plt.ylabel('Accuracy')\n",
        "plt.plot(x_plot, network_history.history['accuracy'], color = \"dodgerblue\")\n",
        "plt.plot(x_plot, network_history.history['val_accuracy'], color = \"orangered\")\n",
        "plt.legend(['Training', 'Validation'], loc = 4)\n",
        "plt.show()"
      ],
      "execution_count": 68,
      "outputs": [
        {
          "output_type": "display_data",
          "data": {
            "image/png": "[encoded data removed]",
            "text/plain": [
              "<Figure size 432x288 with 1 Axes>"
            ]
          },
          "metadata": {
            "needs_background": "light"
          }
        },
        {
          "output_type": "display_data",
          "data": {
            "image/png": "[encoded data removed]",
            "text/plain": [
              "<Figure size 432x288 with 1 Axes>"
            ]
          },
          "metadata": {
            "needs_background": "light"
          }
        }
      ]
    },
    {
      "cell_type": "markdown",
      "metadata": {
        "id": "5MhCwXroWmf9"
      },
      "source": [
        "\n",
        "\n",
        "---\n",
        "\n",
        "\n",
        "## Making predictions on the provided test set\n",
        "\n",
        "Since the results of the validation step are really promising and consistent between training and validation, I assume that unless there are strong differences in the distribution of the labels in the provided test set, the classification result should reflect the high accuracy obtained during the previous step."
      ]
    },
    {
      "cell_type": "code",
      "metadata": {
        "id": "fbtA2vJRWpMY",
        "colab": {
          "base_uri": "https://localhost:8080/",
          "height": 673
        },
        "outputId": "860ffba9-c536-4e82-a41f-df9c13e5cd58"
      },
      "source": [
        "predictions = model.predict(x_test)\n",
        "print(\"\\nShape of the predicion vector:\", predictions.shape)\n",
        "\n",
        "print(\"\\nFirst 3 raw predictions:\")\n",
        "print(predictions[: 3])\n",
        "\n",
        "# One-Hot encode predictions\n",
        "for i in range(np.shape(predictions)[0]):\n",
        "  for j in range(np.shape(predictions)[1]):\n",
        "    predictions[i, j] = 1 if predictions[i, j] == np.amax(predictions[i]) else 0\n",
        "print(\"\\nFirst 3 encoded predictions:\")\n",
        "print(predictions[: 3])\n",
        "\n",
        "# Show first n results\n",
        "n = 10 \n",
        "print(\"\\nPredictions:\")\n",
        "plt.figure(figsize = (20, 4))\n",
        "for i in range(n):\n",
        "    print(\"\\t\\t\", chr(int(np.argmax(predictions[i]) + 80)))\n",
        "    ax = plt.subplot(2, n, i + 1)\n",
        "    plt.imshow(x_test[i].reshape(28, 28))\n",
        "    plt.gray()\n",
        "    ax.get_xaxis().set_visible(False)\n",
        "    ax.get_yaxis().set_visible(False)\n",
        "print(\"\\n\")"
      ],
      "execution_count": 156,
      "outputs": [
        {
          "output_type": "stream",
          "name": "stdout",
          "text": [
            "\n",
            "Shape of the predicion vector: (8800, 11)\n",
            "\n",
            "First 3 raw predictions:\n",
            "[[3.79629171e-04 8.79753497e-05 1.12494675e-03 1.85711920e-04\n",
            "  2.51050718e-04 2.24931110e-02 9.68047500e-01 7.19517004e-04\n",
            "  5.86725306e-04 6.10284926e-03 2.10513936e-05]\n",
            " [5.22072241e-06 6.61998201e-05 2.54417446e-05 4.51693137e-04\n",
            "  2.48242589e-03 6.56923512e-05 2.50553217e-06 2.23782317e-05\n",
            "  7.99291767e-04 7.32806438e-05 9.96005833e-01]\n",
            " [4.36077418e-04 1.07551983e-03 1.63852965e-04 2.15217631e-04\n",
            "  4.60180128e-03 2.45782721e-04 4.05165181e-03 1.12937894e-04\n",
            "  1.19892824e-02 9.76902246e-01 2.05687844e-04]]\n",
            "\n",
            "First 3 encoded predictions:\n",
            "[[0. 0. 0. 0. 0. 0. 1. 0. 0. 0. 0.]\n",
            " [0. 0. 0. 0. 0. 0. 0. 0. 0. 0. 1.]\n",
            " [0. 0. 0. 0. 0. 0. 0. 0. 0. 1. 0.]]\n",
            "\n",
            "Predictions:\n",
            "\t\t V\n",
            "\t\t Z\n",
            "\t\t Y\n",
            "\t\t S\n",
            "\t\t T\n",
            "\t\t Y\n",
            "\t\t U\n",
            "\t\t P\n",
            "\t\t S\n",
            "\t\t V\n",
            "\n",
            "\n"
          ]
        },
        {
          "output_type": "display_data",
          "data": {
            "image/png": "[encoded data removed]",
            "text/plain": [
              "<Figure size 1440x288 with 10 Axes>"
            ]
          },
          "metadata": {
            "needs_background": "light"
          }
        }
      ]
    },
    {
      "cell_type": "markdown",
      "metadata": {
        "id": "LI8fAK6GvODD"
      },
      "source": [
        "As can be seen, the first 10 predictions correspond to the actual data."
      ]
    },
    {
      "cell_type": "markdown",
      "metadata": {
        "id": "9w-sa4AlaBJg"
      },
      "source": [
        "\n",
        "\n",
        "---\n",
        "\n",
        "\n",
        "## (OPTIONAL) Exporting the predictions"
      ]
    },
    {
      "cell_type": "markdown",
      "metadata": {
        "id": "S0jm7tO4v7vM"
      },
      "source": [
        "Since to one-hot encode the labels I scaled them in the range [0, 11], now I have to re-scale them to store the actual values of the positions of the letters in the alphabet to make it possible to estimate the results of the testing."
      ]
    },
    {
      "cell_type": "code",
      "metadata": {
        "id": "tTPSYsbVaAQ_"
      },
      "source": [
        "file_path = '/content/drive/MyDrive/data/Stefano_Talamona_822452_score2.txt'\n",
        "f = open(file_path, \"w\")\n",
        "for pred in predictions:\n",
        "  f.write(str(np.argmax(pred) + 16) + '\\n')\n",
        "f.close()"
      ],
      "execution_count": 155,
      "outputs": []
    },
    {
      "cell_type": "markdown",
      "metadata": {
        "id": "1GZddPVY5Wk3"
      },
      "source": [
        "\n",
        "\n",
        "---\n",
        "\n",
        "\n",
        "# 2. Auto-encoder"
      ]
    },
    {
      "cell_type": "markdown",
      "metadata": {
        "id": "rrhYuXdUp0s7"
      },
      "source": [
        "## Building the network\n",
        "\n",
        "I replicated almost the same structure of the auto-encoder seen during the lab activity."
      ]
    },
    {
      "cell_type": "code",
      "metadata": {
        "id": "7ch1w7j5qKGJ"
      },
      "source": [
        "# with encoding_dim = 32 : compression of factor 24.5 with input size 784 \n",
        "encoding_dim = 64  # with encoding_dim = 64 : compression of factor 12.25  \n",
        "input_img = Input(shape = (784, ))   \n",
        "encoded = Dense(encoding_dim, activation = 'relu')(input_img)\n",
        "decoded = Dense(784, activation = 'sigmoid')(encoded)\n",
        "autoencoder = Model(input_img, decoded)"
      ],
      "execution_count": 161,
      "outputs": []
    },
    {
      "cell_type": "code",
      "metadata": {
        "colab": {
          "base_uri": "https://localhost:8080/"
        },
        "id": "8Lqkifm_x4W9",
        "outputId": "87f3a5b3-e471-484e-9760-573f64d03a91"
      },
      "source": [
        "autoencoder.compile(optimizer = \"adam\", loss = 'binary_crossentropy', metrics = [\"mse\"])\n",
        "autoencoder.summary()"
      ],
      "execution_count": 162,
      "outputs": [
        {
          "output_type": "stream",
          "name": "stdout",
          "text": [
            "Model: \"model_1\"\n",
            "_________________________________________________________________\n",
            " Layer (type)                Output Shape              Param #   \n",
            "=================================================================\n",
            " input_2 (InputLayer)        [(None, 784)]             0         \n",
            "                                                                 \n",
            " dense_33 (Dense)            (None, 64)                50240     \n",
            "                                                                 \n",
            " dense_34 (Dense)            (None, 784)               50960     \n",
            "                                                                 \n",
            "=================================================================\n",
            "Total params: 101,200\n",
            "Trainable params: 101,200\n",
            "Non-trainable params: 0\n",
            "_________________________________________________________________\n"
          ]
        }
      ]
    },
    {
      "cell_type": "code",
      "metadata": {
        "colab": {
          "base_uri": "https://localhost:8080/"
        },
        "id": "VBS2RFooyfy1",
        "outputId": "fabb7135-ef73-4369-f778-c109f0cb9e3b"
      },
      "source": [
        "# Here, input data and target data are exactly the same, since we\n",
        "# want to find an encoding that can represent our training\n",
        "# data in the most precise (yet compressed) way;\n",
        "autoencoder.fit(x_train, x_train,\n",
        "                epochs = 50, # limited to 50 since it seems to converge enough after that number of epochs\n",
        "                batch_size = 512,\n",
        "                shuffle = True,\n",
        "                validation_data = (x_val, x_val))"
      ],
      "execution_count": 163,
      "outputs": [
        {
          "output_type": "stream",
          "name": "stdout",
          "text": [
            "Epoch 1/50\n",
            "28/28 [==============================] - 1s 25ms/step - loss: 0.5216 - mse: 0.1409 - val_loss: 0.3781 - val_mse: 0.0873\n",
            "Epoch 2/50\n",
            "28/28 [==============================] - 1s 21ms/step - loss: 0.3554 - mse: 0.0819 - val_loss: 0.3351 - val_mse: 0.0754\n",
            "Epoch 3/50\n",
            "28/28 [==============================] - 1s 21ms/step - loss: 0.3177 - mse: 0.0691 - val_loss: 0.2996 - val_mse: 0.0626\n",
            "Epoch 4/50\n",
            "28/28 [==============================] - 1s 21ms/step - loss: 0.2844 - mse: 0.0571 - val_loss: 0.2706 - val_mse: 0.0524\n",
            "Epoch 5/50\n",
            "28/28 [==============================] - 1s 22ms/step - loss: 0.2595 - mse: 0.0486 - val_loss: 0.2502 - val_mse: 0.0454\n",
            "Epoch 6/50\n",
            "28/28 [==============================] - 1s 21ms/step - loss: 0.2415 - mse: 0.0425 - val_loss: 0.2344 - val_mse: 0.0402\n",
            "Epoch 7/50\n",
            "28/28 [==============================] - 1s 21ms/step - loss: 0.2273 - mse: 0.0378 - val_loss: 0.2216 - val_mse: 0.0359\n",
            "Epoch 8/50\n",
            "28/28 [==============================] - 1s 23ms/step - loss: 0.2156 - mse: 0.0339 - val_loss: 0.2108 - val_mse: 0.0324\n",
            "Epoch 9/50\n",
            "28/28 [==============================] - 1s 22ms/step - loss: 0.2060 - mse: 0.0307 - val_loss: 0.2022 - val_mse: 0.0296\n",
            "Epoch 10/50\n",
            "28/28 [==============================] - 1s 22ms/step - loss: 0.1983 - mse: 0.0283 - val_loss: 0.1953 - val_mse: 0.0273\n",
            "Epoch 11/50\n",
            "28/28 [==============================] - 1s 21ms/step - loss: 0.1920 - mse: 0.0263 - val_loss: 0.1896 - val_mse: 0.0255\n",
            "Epoch 12/50\n",
            "28/28 [==============================] - 1s 21ms/step - loss: 0.1869 - mse: 0.0246 - val_loss: 0.1847 - val_mse: 0.0239\n",
            "Epoch 13/50\n",
            "28/28 [==============================] - 1s 21ms/step - loss: 0.1821 - mse: 0.0231 - val_loss: 0.1800 - val_mse: 0.0224\n",
            "Epoch 14/50\n",
            "28/28 [==============================] - 1s 21ms/step - loss: 0.1777 - mse: 0.0217 - val_loss: 0.1758 - val_mse: 0.0211\n",
            "Epoch 15/50\n",
            "28/28 [==============================] - 1s 22ms/step - loss: 0.1737 - mse: 0.0204 - val_loss: 0.1721 - val_mse: 0.0200\n",
            "Epoch 16/50\n",
            "28/28 [==============================] - 1s 21ms/step - loss: 0.1701 - mse: 0.0193 - val_loss: 0.1687 - val_mse: 0.0188\n",
            "Epoch 17/50\n",
            "28/28 [==============================] - 1s 22ms/step - loss: 0.1669 - mse: 0.0182 - val_loss: 0.1656 - val_mse: 0.0179\n",
            "Epoch 18/50\n",
            "28/28 [==============================] - 1s 21ms/step - loss: 0.1640 - mse: 0.0173 - val_loss: 0.1629 - val_mse: 0.0170\n",
            "Epoch 19/50\n",
            "28/28 [==============================] - 1s 21ms/step - loss: 0.1615 - mse: 0.0165 - val_loss: 0.1605 - val_mse: 0.0162\n",
            "Epoch 20/50\n",
            "28/28 [==============================] - 1s 22ms/step - loss: 0.1591 - mse: 0.0158 - val_loss: 0.1583 - val_mse: 0.0155\n",
            "Epoch 21/50\n",
            "28/28 [==============================] - 1s 21ms/step - loss: 0.1570 - mse: 0.0151 - val_loss: 0.1562 - val_mse: 0.0149\n",
            "Epoch 22/50\n",
            "28/28 [==============================] - 1s 22ms/step - loss: 0.1551 - mse: 0.0145 - val_loss: 0.1544 - val_mse: 0.0144\n",
            "Epoch 23/50\n",
            "28/28 [==============================] - 1s 22ms/step - loss: 0.1535 - mse: 0.0140 - val_loss: 0.1528 - val_mse: 0.0138\n",
            "Epoch 24/50\n",
            "28/28 [==============================] - 1s 22ms/step - loss: 0.1518 - mse: 0.0135 - val_loss: 0.1513 - val_mse: 0.0133\n",
            "Epoch 25/50\n",
            "28/28 [==============================] - 1s 22ms/step - loss: 0.1503 - mse: 0.0130 - val_loss: 0.1497 - val_mse: 0.0128\n",
            "Epoch 26/50\n",
            "28/28 [==============================] - 1s 21ms/step - loss: 0.1488 - mse: 0.0126 - val_loss: 0.1483 - val_mse: 0.0124\n",
            "Epoch 27/50\n",
            "28/28 [==============================] - 1s 22ms/step - loss: 0.1475 - mse: 0.0121 - val_loss: 0.1470 - val_mse: 0.0120\n",
            "Epoch 28/50\n",
            "28/28 [==============================] - 1s 21ms/step - loss: 0.1463 - mse: 0.0118 - val_loss: 0.1458 - val_mse: 0.0116\n",
            "Epoch 29/50\n",
            "28/28 [==============================] - 1s 21ms/step - loss: 0.1451 - mse: 0.0114 - val_loss: 0.1447 - val_mse: 0.0113\n",
            "Epoch 30/50\n",
            "28/28 [==============================] - 1s 21ms/step - loss: 0.1440 - mse: 0.0111 - val_loss: 0.1435 - val_mse: 0.0109\n",
            "Epoch 31/50\n",
            "28/28 [==============================] - 1s 21ms/step - loss: 0.1429 - mse: 0.0107 - val_loss: 0.1424 - val_mse: 0.0106\n",
            "Epoch 32/50\n",
            "28/28 [==============================] - 1s 22ms/step - loss: 0.1418 - mse: 0.0104 - val_loss: 0.1414 - val_mse: 0.0103\n",
            "Epoch 33/50\n",
            "28/28 [==============================] - 1s 20ms/step - loss: 0.1408 - mse: 0.0101 - val_loss: 0.1404 - val_mse: 0.0100\n",
            "Epoch 34/50\n",
            "28/28 [==============================] - 1s 21ms/step - loss: 0.1399 - mse: 0.0098 - val_loss: 0.1395 - val_mse: 0.0097\n",
            "Epoch 35/50\n",
            "28/28 [==============================] - 1s 21ms/step - loss: 0.1390 - mse: 0.0095 - val_loss: 0.1387 - val_mse: 0.0094\n",
            "Epoch 36/50\n",
            "28/28 [==============================] - 1s 21ms/step - loss: 0.1382 - mse: 0.0093 - val_loss: 0.1378 - val_mse: 0.0092\n",
            "Epoch 37/50\n",
            "28/28 [==============================] - 1s 21ms/step - loss: 0.1375 - mse: 0.0090 - val_loss: 0.1373 - val_mse: 0.0090\n",
            "Epoch 38/50\n",
            "28/28 [==============================] - 1s 21ms/step - loss: 0.1367 - mse: 0.0088 - val_loss: 0.1363 - val_mse: 0.0087\n",
            "Epoch 39/50\n",
            "28/28 [==============================] - 1s 21ms/step - loss: 0.1359 - mse: 0.0086 - val_loss: 0.1360 - val_mse: 0.0087\n",
            "Epoch 40/50\n",
            "28/28 [==============================] - 1s 21ms/step - loss: 0.1354 - mse: 0.0084 - val_loss: 0.1351 - val_mse: 0.0083\n",
            "Epoch 41/50\n",
            "28/28 [==============================] - 1s 21ms/step - loss: 0.1347 - mse: 0.0082 - val_loss: 0.1348 - val_mse: 0.0083\n",
            "Epoch 42/50\n",
            "28/28 [==============================] - 1s 21ms/step - loss: 0.1342 - mse: 0.0081 - val_loss: 0.1338 - val_mse: 0.0080\n",
            "Epoch 43/50\n",
            "28/28 [==============================] - 1s 22ms/step - loss: 0.1335 - mse: 0.0079 - val_loss: 0.1333 - val_mse: 0.0079\n",
            "Epoch 44/50\n",
            "28/28 [==============================] - 1s 21ms/step - loss: 0.1330 - mse: 0.0077 - val_loss: 0.1327 - val_mse: 0.0076\n",
            "Epoch 45/50\n",
            "28/28 [==============================] - 1s 21ms/step - loss: 0.1325 - mse: 0.0075 - val_loss: 0.1323 - val_mse: 0.0075\n",
            "Epoch 46/50\n",
            "28/28 [==============================] - 1s 21ms/step - loss: 0.1320 - mse: 0.0074 - val_loss: 0.1319 - val_mse: 0.0074\n",
            "Epoch 47/50\n",
            "28/28 [==============================] - 1s 22ms/step - loss: 0.1316 - mse: 0.0073 - val_loss: 0.1314 - val_mse: 0.0072\n",
            "Epoch 48/50\n",
            "28/28 [==============================] - 1s 21ms/step - loss: 0.1311 - mse: 0.0071 - val_loss: 0.1310 - val_mse: 0.0071\n",
            "Epoch 49/50\n",
            "28/28 [==============================] - 1s 21ms/step - loss: 0.1308 - mse: 0.0070 - val_loss: 0.1305 - val_mse: 0.0070\n",
            "Epoch 50/50\n",
            "28/28 [==============================] - 1s 21ms/step - loss: 0.1303 - mse: 0.0069 - val_loss: 0.1302 - val_mse: 0.0069\n"
          ]
        },
        {
          "output_type": "execute_result",
          "data": {
            "text/plain": [
              "<keras.callbacks.History at 0x7f1b6adc09d0>"
            ]
          },
          "metadata": {},
          "execution_count": 163
        }
      ]
    },
    {
      "cell_type": "markdown",
      "metadata": {
        "id": "IbcGgMHmqNVL"
      },
      "source": [
        "\n",
        "\n",
        "---\n",
        "\n",
        "\n",
        "## Inspecting the visual results \n",
        "\n",
        "The results in terms of visual representation look similar enough with respect to the original data. I tried using *Mean Square Error* as loss function and *Linear* activation in the *decoder* layer, but the results looked less similar to the original data, with some sort of strong artifacts around the letters (I mean around the white regions of the images). It can be noticed how the model performs well on simple shapes, but struggles a bit on small lines/corners."
      ]
    },
    {
      "cell_type": "code",
      "metadata": {
        "id": "XpJuD0dwqje4",
        "colab": {
          "base_uri": "https://localhost:8080/",
          "height": 248
        },
        "outputId": "61ef27ec-1fff-40cf-e6a8-2df8b53d17eb"
      },
      "source": [
        "decoded_imgs = autoencoder.predict(x_val)\n",
        "n = 10 \n",
        "plt.figure(figsize = (20, 4))\n",
        "for i in range(n):\n",
        "    # original\n",
        "    ax = plt.subplot(2, n, i + 1)\n",
        "    plt.imshow(x_val[i].reshape(28, 28))\n",
        "    plt.gray()\n",
        "    ax.get_xaxis().set_visible(False)\n",
        "    ax.get_yaxis().set_visible(False)\n",
        "    # reconstruction\n",
        "    ax = plt.subplot(2, n, i + 1 + n)\n",
        "    plt.imshow(decoded_imgs[i].reshape(28, 28))\n",
        "    plt.gray()\n",
        "    ax.get_xaxis().set_visible(False)\n",
        "    ax.get_yaxis().set_visible(False)\n",
        "plt.show()"
      ],
      "execution_count": 164,
      "outputs": [
        {
          "output_type": "display_data",
          "data": {
            "image/png": "[encoded data removed]",
            "text/plain": [
              "<Figure size 1440x288 with 20 Axes>"
            ]
          },
          "metadata": {
            "needs_background": "light"
          }
        }
      ]
    },
    {
      "cell_type": "markdown",
      "metadata": {
        "id": "YXefW3LIqrDS"
      },
      "source": [
        "\n",
        "\n",
        "---\n",
        "\n",
        "\n",
        "# 3. (OPTIONAL) Using the encoded representation generated by the auto-encoder to solve the problem of supervised classification\n",
        "\n",
        "For this step, I am just going to feed the encoded data to the same exact model built in the previous steps, and then investigate the results. To do that I am defining a new model, called *optional_model*, which is a *Sequential()* object just like the one used in the training and validation steps, but with the addition of an input layer and an encoding layer to encode the data before feeding it to the network."
      ]
    },
    {
      "cell_type": "code",
      "metadata": {
        "id": "JwX7mkPH82L0"
      },
      "source": [
        "# Build the desired model which will encode the data and pass it as\n",
        "# the input for the model that will perform the actual classification\n",
        "optional_model = Sequential()\n",
        "optional_model.add(Input(shape = (784, ))) \n",
        "optional_model.add(Dense(encoding_dim, activation = 'relu'))\n",
        "optional_model.add(Dense(128, activation = \"relu\", kernel_initializer = initializer,\n",
        "                  kernel_regularizer = regularizer, bias_regularizer = regularizer,activity_regularizer = regularizer))\n",
        "optional_model.add(Dropout(rate = 0.1))\n",
        "optional_model.add(Dense(32, activation = \"relu\", kernel_initializer = initializer,\n",
        "                 kernel_regularizer = regularizer, bias_regularizer = regularizer,activity_regularizer = regularizer))\n",
        "optional_model.add(Dropout(rate = 0.1))\n",
        "optional_model.add(Dense(n_classes, activation = \"softmax\", kernel_initializer = initializer))"
      ],
      "execution_count": 165,
      "outputs": []
    },
    {
      "cell_type": "code",
      "metadata": {
        "colab": {
          "base_uri": "https://localhost:8080/"
        },
        "id": "ItbYim4l_Vh_",
        "outputId": "439c6209-a8df-45be-88c1-47d22348baa8"
      },
      "source": [
        "# Compile\n",
        "optional_model.compile(optimizer = optimizer, loss = \"categorical_crossentropy\",\n",
        "              metrics = metrics_list)\n",
        "# Train and validate\n",
        "network_history = optional_model.fit(x_train, y_train, batch_size = batch_size, epochs = n_epochs,\n",
        "                            verbose = 2, validation_data = (x_val, y_val))"
      ],
      "execution_count": 166,
      "outputs": [
        {
          "output_type": "stream",
          "name": "stdout",
          "text": [
            "Epoch 1/75\n",
            "110/110 - 3s - loss: 1.8197 - accuracy: 0.9591 - precision: 0.9174 - recall: 0.6042 - sensitivity: 0.8919 - specificity: 0.8997 - val_loss: 0.8998 - val_accuracy: 0.9731 - val_precision: 0.9347 - val_recall: 0.7569 - val_sensitivity: 0.9677 - val_specificity: 0.9744 - 3s/epoch - 23ms/step\n",
            "Epoch 2/75\n",
            "110/110 - 0s - loss: 0.8099 - accuracy: 0.9766 - precision: 0.9371 - recall: 0.7958 - sensitivity: 0.9721 - specificity: 0.9830 - val_loss: 0.6697 - val_accuracy: 0.9834 - val_precision: 0.9592 - val_recall: 0.8540 - val_sensitivity: 0.9837 - val_specificity: 0.9925 - 446ms/epoch - 4ms/step\n",
            "Epoch 3/75\n",
            "110/110 - 0s - loss: 0.6691 - accuracy: 0.9818 - precision: 0.9497 - recall: 0.8450 - sensitivity: 0.9819 - specificity: 0.9912 - val_loss: 0.5889 - val_accuracy: 0.9853 - val_precision: 0.9587 - val_recall: 0.8760 - val_sensitivity: 0.9880 - val_specificity: 0.9946 - 496ms/epoch - 5ms/step\n",
            "Epoch 4/75\n",
            "110/110 - 0s - loss: 0.5930 - accuracy: 0.9850 - precision: 0.9565 - recall: 0.8746 - sensitivity: 0.9866 - specificity: 0.9944 - val_loss: 0.5237 - val_accuracy: 0.9883 - val_precision: 0.9644 - val_recall: 0.9046 - val_sensitivity: 0.9906 - val_specificity: 0.9968 - 450ms/epoch - 4ms/step\n",
            "Epoch 5/75\n",
            "110/110 - 0s - loss: 0.5448 - accuracy: 0.9867 - precision: 0.9596 - recall: 0.8916 - sensitivity: 0.9895 - specificity: 0.9958 - val_loss: 0.4854 - val_accuracy: 0.9891 - val_precision: 0.9675 - val_recall: 0.9106 - val_sensitivity: 0.9923 - val_specificity: 0.9975 - 464ms/epoch - 4ms/step\n",
            "Epoch 6/75\n",
            "110/110 - 0s - loss: 0.5068 - accuracy: 0.9879 - precision: 0.9627 - recall: 0.9020 - sensitivity: 0.9916 - specificity: 0.9966 - val_loss: 0.4606 - val_accuracy: 0.9904 - val_precision: 0.9688 - val_recall: 0.9240 - val_sensitivity: 0.9931 - val_specificity: 0.9980 - 472ms/epoch - 4ms/step\n",
            "Epoch 7/75\n",
            "110/110 - 0s - loss: 0.4811 - accuracy: 0.9886 - precision: 0.9645 - recall: 0.9084 - sensitivity: 0.9921 - specificity: 0.9970 - val_loss: 0.4359 - val_accuracy: 0.9909 - val_precision: 0.9701 - val_recall: 0.9283 - val_sensitivity: 0.9934 - val_specificity: 0.9983 - 441ms/epoch - 4ms/step\n",
            "Epoch 8/75\n",
            "110/110 - 0s - loss: 0.4619 - accuracy: 0.9890 - precision: 0.9657 - recall: 0.9118 - sensitivity: 0.9926 - specificity: 0.9972 - val_loss: 0.4144 - val_accuracy: 0.9918 - val_precision: 0.9749 - val_recall: 0.9340 - val_sensitivity: 0.9943 - val_specificity: 0.9986 - 430ms/epoch - 4ms/step\n",
            "Epoch 9/75\n",
            "110/110 - 0s - loss: 0.4358 - accuracy: 0.9900 - precision: 0.9685 - recall: 0.9199 - sensitivity: 0.9943 - specificity: 0.9978 - val_loss: 0.3972 - val_accuracy: 0.9926 - val_precision: 0.9777 - val_recall: 0.9397 - val_sensitivity: 0.9954 - val_specificity: 0.9987 - 440ms/epoch - 4ms/step\n",
            "Epoch 10/75\n",
            "110/110 - 0s - loss: 0.4191 - accuracy: 0.9906 - precision: 0.9710 - recall: 0.9244 - sensitivity: 0.9949 - specificity: 0.9980 - val_loss: 0.3836 - val_accuracy: 0.9924 - val_precision: 0.9748 - val_recall: 0.9409 - val_sensitivity: 0.9971 - val_specificity: 0.9986 - 428ms/epoch - 4ms/step\n",
            "Epoch 11/75\n",
            "110/110 - 0s - loss: 0.4034 - accuracy: 0.9910 - precision: 0.9712 - recall: 0.9291 - sensitivity: 0.9956 - specificity: 0.9983 - val_loss: 0.3848 - val_accuracy: 0.9920 - val_precision: 0.9733 - val_recall: 0.9377 - val_sensitivity: 0.9943 - val_specificity: 0.9985 - 435ms/epoch - 4ms/step\n",
            "Epoch 12/75\n",
            "110/110 - 0s - loss: 0.3950 - accuracy: 0.9910 - precision: 0.9700 - recall: 0.9294 - sensitivity: 0.9961 - specificity: 0.9982 - val_loss: 0.3543 - val_accuracy: 0.9939 - val_precision: 0.9811 - val_recall: 0.9511 - val_sensitivity: 0.9963 - val_specificity: 0.9991 - 457ms/epoch - 4ms/step\n",
            "Epoch 13/75\n",
            "110/110 - 0s - loss: 0.3762 - accuracy: 0.9920 - precision: 0.9745 - recall: 0.9369 - sensitivity: 0.9961 - specificity: 0.9986 - val_loss: 0.3546 - val_accuracy: 0.9928 - val_precision: 0.9741 - val_recall: 0.9463 - val_sensitivity: 0.9957 - val_specificity: 0.9989 - 435ms/epoch - 4ms/step\n",
            "Epoch 14/75\n",
            "110/110 - 0s - loss: 0.3657 - accuracy: 0.9923 - precision: 0.9752 - recall: 0.9394 - sensitivity: 0.9960 - specificity: 0.9987 - val_loss: 0.3419 - val_accuracy: 0.9942 - val_precision: 0.9795 - val_recall: 0.9557 - val_sensitivity: 0.9963 - val_specificity: 0.9989 - 454ms/epoch - 4ms/step\n",
            "Epoch 15/75\n",
            "110/110 - 0s - loss: 0.3591 - accuracy: 0.9925 - precision: 0.9736 - recall: 0.9429 - sensitivity: 0.9964 - specificity: 0.9986 - val_loss: 0.3302 - val_accuracy: 0.9942 - val_precision: 0.9801 - val_recall: 0.9557 - val_sensitivity: 0.9963 - val_specificity: 0.9990 - 455ms/epoch - 4ms/step\n",
            "Epoch 16/75\n",
            "110/110 - 0s - loss: 0.3456 - accuracy: 0.9929 - precision: 0.9773 - recall: 0.9444 - sensitivity: 0.9972 - specificity: 0.9989 - val_loss: 0.3187 - val_accuracy: 0.9938 - val_precision: 0.9794 - val_recall: 0.9523 - val_sensitivity: 0.9966 - val_specificity: 0.9994 - 472ms/epoch - 4ms/step\n",
            "Epoch 17/75\n",
            "110/110 - 0s - loss: 0.3368 - accuracy: 0.9932 - precision: 0.9772 - recall: 0.9469 - sensitivity: 0.9971 - specificity: 0.9990 - val_loss: 0.3136 - val_accuracy: 0.9942 - val_precision: 0.9804 - val_recall: 0.9557 - val_sensitivity: 0.9969 - val_specificity: 0.9993 - 436ms/epoch - 4ms/step\n",
            "Epoch 18/75\n",
            "110/110 - 0s - loss: 0.3314 - accuracy: 0.9932 - precision: 0.9777 - recall: 0.9470 - sensitivity: 0.9971 - specificity: 0.9990 - val_loss: 0.3053 - val_accuracy: 0.9950 - val_precision: 0.9833 - val_recall: 0.9609 - val_sensitivity: 0.9974 - val_specificity: 0.9994 - 471ms/epoch - 4ms/step\n",
            "Epoch 19/75\n",
            "110/110 - 0s - loss: 0.3225 - accuracy: 0.9934 - precision: 0.9782 - recall: 0.9487 - sensitivity: 0.9969 - specificity: 0.9991 - val_loss: 0.2950 - val_accuracy: 0.9953 - val_precision: 0.9834 - val_recall: 0.9643 - val_sensitivity: 0.9974 - val_specificity: 0.9994 - 473ms/epoch - 4ms/step\n",
            "Epoch 20/75\n",
            "110/110 - 0s - loss: 0.3138 - accuracy: 0.9940 - precision: 0.9794 - recall: 0.9543 - sensitivity: 0.9970 - specificity: 0.9992 - val_loss: 0.2981 - val_accuracy: 0.9946 - val_precision: 0.9813 - val_recall: 0.9591 - val_sensitivity: 0.9969 - val_specificity: 0.9992 - 468ms/epoch - 4ms/step\n",
            "Epoch 21/75\n",
            "110/110 - 0s - loss: 0.3058 - accuracy: 0.9942 - precision: 0.9822 - recall: 0.9539 - sensitivity: 0.9974 - specificity: 0.9993 - val_loss: 0.2880 - val_accuracy: 0.9947 - val_precision: 0.9802 - val_recall: 0.9611 - val_sensitivity: 0.9977 - val_specificity: 0.9993 - 440ms/epoch - 4ms/step\n",
            "Epoch 22/75\n",
            "110/110 - 0s - loss: 0.3040 - accuracy: 0.9939 - precision: 0.9787 - recall: 0.9539 - sensitivity: 0.9971 - specificity: 0.9992 - val_loss: 0.2800 - val_accuracy: 0.9956 - val_precision: 0.9849 - val_recall: 0.9669 - val_sensitivity: 0.9977 - val_specificity: 0.9995 - 467ms/epoch - 4ms/step\n",
            "Epoch 23/75\n",
            "110/110 - 0s - loss: 0.2943 - accuracy: 0.9945 - precision: 0.9816 - recall: 0.9576 - sensitivity: 0.9975 - specificity: 0.9993 - val_loss: 0.2715 - val_accuracy: 0.9960 - val_precision: 0.9866 - val_recall: 0.9689 - val_sensitivity: 0.9977 - val_specificity: 0.9995 - 448ms/epoch - 4ms/step\n",
            "Epoch 24/75\n",
            "110/110 - 0s - loss: 0.2904 - accuracy: 0.9947 - precision: 0.9824 - recall: 0.9586 - sensitivity: 0.9979 - specificity: 0.9993 - val_loss: 0.2655 - val_accuracy: 0.9957 - val_precision: 0.9860 - val_recall: 0.9669 - val_sensitivity: 0.9986 - val_specificity: 0.9994 - 492ms/epoch - 4ms/step\n",
            "Epoch 25/75\n",
            "110/110 - 0s - loss: 0.2847 - accuracy: 0.9944 - precision: 0.9805 - recall: 0.9579 - sensitivity: 0.9982 - specificity: 0.9993 - val_loss: 0.2669 - val_accuracy: 0.9954 - val_precision: 0.9840 - val_recall: 0.9654 - val_sensitivity: 0.9971 - val_specificity: 0.9994 - 462ms/epoch - 4ms/step\n",
            "Epoch 26/75\n",
            "110/110 - 0s - loss: 0.2798 - accuracy: 0.9948 - precision: 0.9824 - recall: 0.9600 - sensitivity: 0.9981 - specificity: 0.9993 - val_loss: 0.2560 - val_accuracy: 0.9959 - val_precision: 0.9846 - val_recall: 0.9700 - val_sensitivity: 0.9986 - val_specificity: 0.9996 - 477ms/epoch - 4ms/step\n",
            "Epoch 27/75\n",
            "110/110 - 1s - loss: 0.2743 - accuracy: 0.9947 - precision: 0.9812 - recall: 0.9596 - sensitivity: 0.9986 - specificity: 0.9994 - val_loss: 0.2502 - val_accuracy: 0.9959 - val_precision: 0.9860 - val_recall: 0.9683 - val_sensitivity: 0.9980 - val_specificity: 0.9996 - 505ms/epoch - 5ms/step\n",
            "Epoch 28/75\n",
            "110/110 - 0s - loss: 0.2668 - accuracy: 0.9952 - precision: 0.9831 - recall: 0.9635 - sensitivity: 0.9984 - specificity: 0.9994 - val_loss: 0.2441 - val_accuracy: 0.9963 - val_precision: 0.9872 - val_recall: 0.9717 - val_sensitivity: 0.9989 - val_specificity: 0.9996 - 480ms/epoch - 4ms/step\n",
            "Epoch 29/75\n",
            "110/110 - 0s - loss: 0.2629 - accuracy: 0.9953 - precision: 0.9840 - recall: 0.9639 - sensitivity: 0.9984 - specificity: 0.9994 - val_loss: 0.2529 - val_accuracy: 0.9956 - val_precision: 0.9820 - val_recall: 0.9689 - val_sensitivity: 0.9986 - val_specificity: 0.9995 - 473ms/epoch - 4ms/step\n",
            "Epoch 30/75\n",
            "110/110 - 0s - loss: 0.2615 - accuracy: 0.9951 - precision: 0.9825 - recall: 0.9637 - sensitivity: 0.9986 - specificity: 0.9994 - val_loss: 0.2390 - val_accuracy: 0.9962 - val_precision: 0.9875 - val_recall: 0.9709 - val_sensitivity: 0.9991 - val_specificity: 0.9997 - 447ms/epoch - 4ms/step\n",
            "Epoch 31/75\n",
            "110/110 - 0s - loss: 0.2582 - accuracy: 0.9948 - precision: 0.9810 - recall: 0.9611 - sensitivity: 0.9986 - specificity: 0.9995 - val_loss: 0.2410 - val_accuracy: 0.9958 - val_precision: 0.9855 - val_recall: 0.9686 - val_sensitivity: 0.9980 - val_specificity: 0.9995 - 480ms/epoch - 4ms/step\n",
            "Epoch 32/75\n",
            "110/110 - 0s - loss: 0.2517 - accuracy: 0.9953 - precision: 0.9840 - recall: 0.9640 - sensitivity: 0.9984 - specificity: 0.9995 - val_loss: 0.2309 - val_accuracy: 0.9966 - val_precision: 0.9870 - val_recall: 0.9751 - val_sensitivity: 0.9989 - val_specificity: 0.9997 - 460ms/epoch - 4ms/step\n",
            "Epoch 33/75\n",
            "110/110 - 0s - loss: 0.2460 - accuracy: 0.9957 - precision: 0.9851 - recall: 0.9679 - sensitivity: 0.9984 - specificity: 0.9996 - val_loss: 0.2271 - val_accuracy: 0.9963 - val_precision: 0.9867 - val_recall: 0.9729 - val_sensitivity: 0.9994 - val_specificity: 0.9997 - 483ms/epoch - 4ms/step\n",
            "Epoch 34/75\n",
            "110/110 - 0s - loss: 0.2406 - accuracy: 0.9958 - precision: 0.9857 - recall: 0.9679 - sensitivity: 0.9985 - specificity: 0.9996 - val_loss: 0.2209 - val_accuracy: 0.9968 - val_precision: 0.9881 - val_recall: 0.9766 - val_sensitivity: 0.9991 - val_specificity: 0.9998 - 477ms/epoch - 4ms/step\n",
            "Epoch 35/75\n",
            "110/110 - 0s - loss: 0.2400 - accuracy: 0.9956 - precision: 0.9844 - recall: 0.9667 - sensitivity: 0.9984 - specificity: 0.9996 - val_loss: 0.2227 - val_accuracy: 0.9965 - val_precision: 0.9873 - val_recall: 0.9740 - val_sensitivity: 0.9997 - val_specificity: 0.9997 - 487ms/epoch - 4ms/step\n",
            "Epoch 36/75\n",
            "110/110 - 0s - loss: 0.2365 - accuracy: 0.9957 - precision: 0.9847 - recall: 0.9676 - sensitivity: 0.9986 - specificity: 0.9996 - val_loss: 0.2239 - val_accuracy: 0.9963 - val_precision: 0.9864 - val_recall: 0.9726 - val_sensitivity: 0.9989 - val_specificity: 0.9997 - 450ms/epoch - 4ms/step\n",
            "Epoch 37/75\n",
            "110/110 - 0s - loss: 0.2301 - accuracy: 0.9959 - precision: 0.9855 - recall: 0.9694 - sensitivity: 0.9986 - specificity: 0.9996 - val_loss: 0.2155 - val_accuracy: 0.9968 - val_precision: 0.9879 - val_recall: 0.9763 - val_sensitivity: 0.9989 - val_specificity: 0.9997 - 461ms/epoch - 4ms/step\n",
            "Epoch 38/75\n",
            "110/110 - 0s - loss: 0.2302 - accuracy: 0.9959 - precision: 0.9859 - recall: 0.9686 - sensitivity: 0.9988 - specificity: 0.9996 - val_loss: 0.2080 - val_accuracy: 0.9971 - val_precision: 0.9899 - val_recall: 0.9777 - val_sensitivity: 0.9986 - val_specificity: 0.9998 - 464ms/epoch - 4ms/step\n",
            "Epoch 39/75\n",
            "110/110 - 0s - loss: 0.2245 - accuracy: 0.9962 - precision: 0.9866 - recall: 0.9711 - sensitivity: 0.9993 - specificity: 0.9997 - val_loss: 0.2059 - val_accuracy: 0.9971 - val_precision: 0.9896 - val_recall: 0.9789 - val_sensitivity: 0.9994 - val_specificity: 0.9997 - 440ms/epoch - 4ms/step\n",
            "Epoch 40/75\n",
            "110/110 - 0s - loss: 0.2206 - accuracy: 0.9963 - precision: 0.9871 - recall: 0.9716 - sensitivity: 0.9989 - specificity: 0.9997 - val_loss: 0.2134 - val_accuracy: 0.9962 - val_precision: 0.9867 - val_recall: 0.9714 - val_sensitivity: 0.9989 - val_specificity: 0.9997 - 453ms/epoch - 4ms/step\n",
            "Epoch 41/75\n",
            "110/110 - 0s - loss: 0.2178 - accuracy: 0.9963 - precision: 0.9876 - recall: 0.9717 - sensitivity: 0.9993 - specificity: 0.9997 - val_loss: 0.2066 - val_accuracy: 0.9968 - val_precision: 0.9884 - val_recall: 0.9766 - val_sensitivity: 0.9991 - val_specificity: 0.9996 - 437ms/epoch - 4ms/step\n",
            "Epoch 42/75\n",
            "110/110 - 0s - loss: 0.2164 - accuracy: 0.9965 - precision: 0.9877 - recall: 0.9737 - sensitivity: 0.9991 - specificity: 0.9997 - val_loss: 0.1949 - val_accuracy: 0.9974 - val_precision: 0.9899 - val_recall: 0.9809 - val_sensitivity: 0.9991 - val_specificity: 0.9999 - 493ms/epoch - 4ms/step\n",
            "Epoch 43/75\n",
            "110/110 - 0s - loss: 0.2127 - accuracy: 0.9961 - precision: 0.9859 - recall: 0.9710 - sensitivity: 0.9991 - specificity: 0.9997 - val_loss: 0.1909 - val_accuracy: 0.9976 - val_precision: 0.9911 - val_recall: 0.9820 - val_sensitivity: 0.9991 - val_specificity: 0.9998 - 433ms/epoch - 4ms/step\n",
            "Epoch 44/75\n",
            "110/110 - 0s - loss: 0.2091 - accuracy: 0.9964 - precision: 0.9864 - recall: 0.9742 - sensitivity: 0.9993 - specificity: 0.9998 - val_loss: 0.2003 - val_accuracy: 0.9968 - val_precision: 0.9881 - val_recall: 0.9766 - val_sensitivity: 0.9989 - val_specificity: 0.9997 - 426ms/epoch - 4ms/step\n",
            "Epoch 45/75\n",
            "110/110 - 0s - loss: 0.2079 - accuracy: 0.9965 - precision: 0.9866 - recall: 0.9744 - sensitivity: 0.9992 - specificity: 0.9997 - val_loss: 0.2019 - val_accuracy: 0.9965 - val_precision: 0.9867 - val_recall: 0.9743 - val_sensitivity: 0.9991 - val_specificity: 0.9996 - 434ms/epoch - 4ms/step\n",
            "Epoch 46/75\n",
            "110/110 - 0s - loss: 0.2047 - accuracy: 0.9966 - precision: 0.9878 - recall: 0.9745 - sensitivity: 0.9992 - specificity: 0.9998 - val_loss: 0.1912 - val_accuracy: 0.9972 - val_precision: 0.9893 - val_recall: 0.9800 - val_sensitivity: 0.9989 - val_specificity: 0.9998 - 417ms/epoch - 4ms/step\n",
            "Epoch 47/75\n",
            "110/110 - 0s - loss: 0.2038 - accuracy: 0.9965 - precision: 0.9868 - recall: 0.9748 - sensitivity: 0.9996 - specificity: 0.9997 - val_loss: 0.1826 - val_accuracy: 0.9975 - val_precision: 0.9916 - val_recall: 0.9811 - val_sensitivity: 0.9991 - val_specificity: 0.9999 - 450ms/epoch - 4ms/step\n",
            "Epoch 48/75\n",
            "110/110 - 0s - loss: 0.1999 - accuracy: 0.9967 - precision: 0.9886 - recall: 0.9752 - sensitivity: 0.9996 - specificity: 0.9997 - val_loss: 0.1847 - val_accuracy: 0.9975 - val_precision: 0.9902 - val_recall: 0.9820 - val_sensitivity: 0.9994 - val_specificity: 0.9998 - 442ms/epoch - 4ms/step\n",
            "Epoch 49/75\n",
            "110/110 - 0s - loss: 0.1971 - accuracy: 0.9967 - precision: 0.9881 - recall: 0.9756 - sensitivity: 0.9994 - specificity: 0.9998 - val_loss: 0.1772 - val_accuracy: 0.9976 - val_precision: 0.9916 - val_recall: 0.9817 - val_sensitivity: 0.9994 - val_specificity: 0.9999 - 456ms/epoch - 4ms/step\n",
            "Epoch 50/75\n",
            "110/110 - 1s - loss: 0.1929 - accuracy: 0.9969 - precision: 0.9891 - recall: 0.9764 - sensitivity: 0.9994 - specificity: 0.9998 - val_loss: 0.1829 - val_accuracy: 0.9971 - val_precision: 0.9879 - val_recall: 0.9800 - val_sensitivity: 0.9997 - val_specificity: 0.9997 - 518ms/epoch - 5ms/step\n",
            "Epoch 51/75\n",
            "110/110 - 0s - loss: 0.1928 - accuracy: 0.9967 - precision: 0.9876 - recall: 0.9764 - sensitivity: 0.9994 - specificity: 0.9998 - val_loss: 0.1747 - val_accuracy: 0.9976 - val_precision: 0.9922 - val_recall: 0.9814 - val_sensitivity: 0.9994 - val_specificity: 0.9999 - 463ms/epoch - 4ms/step\n",
            "Epoch 52/75\n",
            "110/110 - 0s - loss: 0.1926 - accuracy: 0.9966 - precision: 0.9871 - recall: 0.9749 - sensitivity: 0.9994 - specificity: 0.9998 - val_loss: 0.1761 - val_accuracy: 0.9972 - val_precision: 0.9890 - val_recall: 0.9806 - val_sensitivity: 0.9997 - val_specificity: 0.9998 - 457ms/epoch - 4ms/step\n",
            "Epoch 53/75\n",
            "110/110 - 0s - loss: 0.1892 - accuracy: 0.9967 - precision: 0.9872 - recall: 0.9766 - sensitivity: 0.9993 - specificity: 0.9998 - val_loss: 0.1801 - val_accuracy: 0.9970 - val_precision: 0.9882 - val_recall: 0.9783 - val_sensitivity: 0.9994 - val_specificity: 0.9999 - 461ms/epoch - 4ms/step\n",
            "Epoch 54/75\n",
            "110/110 - 0s - loss: 0.1844 - accuracy: 0.9971 - precision: 0.9896 - recall: 0.9783 - sensitivity: 0.9998 - specificity: 0.9998 - val_loss: 0.1696 - val_accuracy: 0.9977 - val_precision: 0.9908 - val_recall: 0.9834 - val_sensitivity: 0.9997 - val_specificity: 0.9998 - 451ms/epoch - 4ms/step\n",
            "Epoch 55/75\n",
            "110/110 - 0s - loss: 0.1804 - accuracy: 0.9972 - precision: 0.9898 - recall: 0.9798 - sensitivity: 0.9992 - specificity: 0.9999 - val_loss: 0.1658 - val_accuracy: 0.9978 - val_precision: 0.9914 - val_recall: 0.9846 - val_sensitivity: 0.9994 - val_specificity: 0.9999 - 475ms/epoch - 4ms/step\n",
            "Epoch 56/75\n",
            "110/110 - 0s - loss: 0.1813 - accuracy: 0.9970 - precision: 0.9893 - recall: 0.9781 - sensitivity: 0.9995 - specificity: 0.9998 - val_loss: 0.1666 - val_accuracy: 0.9974 - val_precision: 0.9902 - val_recall: 0.9809 - val_sensitivity: 1.0000 - val_specificity: 0.9999 - 477ms/epoch - 4ms/step\n",
            "Epoch 57/75\n",
            "110/110 - 0s - loss: 0.1798 - accuracy: 0.9969 - precision: 0.9884 - recall: 0.9774 - sensitivity: 0.9997 - specificity: 0.9998 - val_loss: 0.1610 - val_accuracy: 0.9981 - val_precision: 0.9928 - val_recall: 0.9860 - val_sensitivity: 0.9997 - val_specificity: 0.9999 - 482ms/epoch - 4ms/step\n",
            "Epoch 58/75\n",
            "110/110 - 0s - loss: 0.1743 - accuracy: 0.9973 - precision: 0.9903 - recall: 0.9798 - sensitivity: 0.9996 - specificity: 0.9998 - val_loss: 0.1659 - val_accuracy: 0.9971 - val_precision: 0.9890 - val_recall: 0.9794 - val_sensitivity: 1.0000 - val_specificity: 0.9998 - 420ms/epoch - 4ms/step\n",
            "Epoch 59/75\n",
            "110/110 - 0s - loss: 0.1743 - accuracy: 0.9973 - precision: 0.9904 - recall: 0.9799 - sensitivity: 0.9997 - specificity: 0.9998 - val_loss: 0.1609 - val_accuracy: 0.9977 - val_precision: 0.9905 - val_recall: 0.9843 - val_sensitivity: 1.0000 - val_specificity: 0.9999 - 471ms/epoch - 4ms/step\n",
            "Epoch 60/75\n",
            "110/110 - 0s - loss: 0.1733 - accuracy: 0.9971 - precision: 0.9894 - recall: 0.9784 - sensitivity: 0.9998 - specificity: 0.9998 - val_loss: 0.1562 - val_accuracy: 0.9980 - val_precision: 0.9931 - val_recall: 0.9851 - val_sensitivity: 1.0000 - val_specificity: 0.9999 - 468ms/epoch - 4ms/step\n",
            "Epoch 61/75\n",
            "110/110 - 0s - loss: 0.1705 - accuracy: 0.9975 - precision: 0.9902 - recall: 0.9817 - sensitivity: 0.9994 - specificity: 0.9999 - val_loss: 0.1599 - val_accuracy: 0.9978 - val_precision: 0.9928 - val_recall: 0.9831 - val_sensitivity: 1.0000 - val_specificity: 0.9999 - 439ms/epoch - 4ms/step\n",
            "Epoch 62/75\n",
            "110/110 - 0s - loss: 0.1735 - accuracy: 0.9971 - precision: 0.9888 - recall: 0.9791 - sensitivity: 0.9994 - specificity: 0.9998 - val_loss: 0.1559 - val_accuracy: 0.9979 - val_precision: 0.9922 - val_recall: 0.9843 - val_sensitivity: 1.0000 - val_specificity: 0.9999 - 438ms/epoch - 4ms/step\n",
            "Epoch 63/75\n",
            "110/110 - 0s - loss: 0.1694 - accuracy: 0.9972 - precision: 0.9898 - recall: 0.9798 - sensitivity: 0.9996 - specificity: 0.9998 - val_loss: 0.1526 - val_accuracy: 0.9980 - val_precision: 0.9925 - val_recall: 0.9857 - val_sensitivity: 1.0000 - val_specificity: 0.9999 - 423ms/epoch - 4ms/step\n",
            "Epoch 64/75\n",
            "110/110 - 0s - loss: 0.1646 - accuracy: 0.9977 - precision: 0.9921 - recall: 0.9824 - sensitivity: 0.9998 - specificity: 0.9999 - val_loss: 0.1491 - val_accuracy: 0.9980 - val_precision: 0.9922 - val_recall: 0.9857 - val_sensitivity: 1.0000 - val_specificity: 0.9999 - 453ms/epoch - 4ms/step\n",
            "Epoch 65/75\n",
            "110/110 - 0s - loss: 0.1615 - accuracy: 0.9976 - precision: 0.9916 - recall: 0.9822 - sensitivity: 0.9997 - specificity: 0.9999 - val_loss: 0.1489 - val_accuracy: 0.9982 - val_precision: 0.9934 - val_recall: 0.9863 - val_sensitivity: 1.0000 - val_specificity: 1.0000 - 426ms/epoch - 4ms/step\n",
            "Epoch 66/75\n",
            "110/110 - 0s - loss: 0.1652 - accuracy: 0.9974 - precision: 0.9900 - recall: 0.9812 - sensitivity: 0.9996 - specificity: 0.9998 - val_loss: 0.1444 - val_accuracy: 0.9983 - val_precision: 0.9948 - val_recall: 0.9863 - val_sensitivity: 1.0000 - val_specificity: 0.9999 - 460ms/epoch - 4ms/step\n",
            "Epoch 67/75\n",
            "110/110 - 0s - loss: 0.1613 - accuracy: 0.9974 - precision: 0.9908 - recall: 0.9809 - sensitivity: 0.9998 - specificity: 0.9999 - val_loss: 0.1431 - val_accuracy: 0.9985 - val_precision: 0.9951 - val_recall: 0.9886 - val_sensitivity: 1.0000 - val_specificity: 1.0000 - 440ms/epoch - 4ms/step\n",
            "Epoch 68/75\n",
            "110/110 - 0s - loss: 0.1613 - accuracy: 0.9974 - precision: 0.9904 - recall: 0.9811 - sensitivity: 0.9998 - specificity: 0.9999 - val_loss: 0.1498 - val_accuracy: 0.9976 - val_precision: 0.9905 - val_recall: 0.9831 - val_sensitivity: 0.9997 - val_specificity: 1.0000 - 442ms/epoch - 4ms/step\n",
            "Epoch 69/75\n",
            "110/110 - 0s - loss: 0.1623 - accuracy: 0.9973 - precision: 0.9895 - recall: 0.9804 - sensitivity: 0.9998 - specificity: 0.9999 - val_loss: 0.1454 - val_accuracy: 0.9980 - val_precision: 0.9922 - val_recall: 0.9854 - val_sensitivity: 1.0000 - val_specificity: 1.0000 - 461ms/epoch - 4ms/step\n",
            "Epoch 70/75\n",
            "110/110 - 0s - loss: 0.1577 - accuracy: 0.9976 - precision: 0.9914 - recall: 0.9826 - sensitivity: 0.9997 - specificity: 0.9999 - val_loss: 0.1402 - val_accuracy: 0.9984 - val_precision: 0.9940 - val_recall: 0.9886 - val_sensitivity: 1.0000 - val_specificity: 1.0000 - 448ms/epoch - 4ms/step\n",
            "Epoch 71/75\n",
            "110/110 - 1s - loss: 0.1541 - accuracy: 0.9977 - precision: 0.9911 - recall: 0.9834 - sensitivity: 0.9996 - specificity: 0.9999 - val_loss: 0.1384 - val_accuracy: 0.9981 - val_precision: 0.9925 - val_recall: 0.9866 - val_sensitivity: 1.0000 - val_specificity: 1.0000 - 505ms/epoch - 5ms/step\n",
            "Epoch 72/75\n",
            "110/110 - 0s - loss: 0.1525 - accuracy: 0.9977 - precision: 0.9909 - recall: 0.9833 - sensitivity: 0.9999 - specificity: 0.9999 - val_loss: 0.1402 - val_accuracy: 0.9981 - val_precision: 0.9920 - val_recall: 0.9866 - val_sensitivity: 1.0000 - val_specificity: 1.0000 - 453ms/epoch - 4ms/step\n",
            "Epoch 73/75\n",
            "110/110 - 0s - loss: 0.1529 - accuracy: 0.9977 - precision: 0.9919 - recall: 0.9824 - sensitivity: 0.9999 - specificity: 0.9999 - val_loss: 0.1383 - val_accuracy: 0.9982 - val_precision: 0.9934 - val_recall: 0.9866 - val_sensitivity: 1.0000 - val_specificity: 1.0000 - 475ms/epoch - 4ms/step\n",
            "Epoch 74/75\n",
            "110/110 - 0s - loss: 0.1516 - accuracy: 0.9977 - precision: 0.9915 - recall: 0.9832 - sensitivity: 0.9998 - specificity: 0.9999 - val_loss: 0.1367 - val_accuracy: 0.9986 - val_precision: 0.9948 - val_recall: 0.9897 - val_sensitivity: 1.0000 - val_specificity: 1.0000 - 447ms/epoch - 4ms/step\n",
            "Epoch 75/75\n",
            "110/110 - 0s - loss: 0.1485 - accuracy: 0.9979 - precision: 0.9924 - recall: 0.9845 - sensitivity: 0.9999 - specificity: 0.9999 - val_loss: 0.1369 - val_accuracy: 0.9981 - val_precision: 0.9931 - val_recall: 0.9863 - val_sensitivity: 1.0000 - val_specificity: 0.9999 - 474ms/epoch - 4ms/step\n"
          ]
        }
      ]
    },
    {
      "cell_type": "markdown",
      "metadata": {
        "id": "u2jo9c-MA7eU"
      },
      "source": [
        "##Results"
      ]
    },
    {
      "cell_type": "code",
      "metadata": {
        "colab": {
          "base_uri": "https://localhost:8080/"
        },
        "id": "aOwGkmTmAeKl",
        "outputId": "998323de-4ad7-4a9c-e8c9-85a4365a07f2"
      },
      "source": [
        "# Show results\n",
        "print(\"Training:\")\n",
        "accuracy = network_history.history['accuracy'][-1]\n",
        "precision = network_history.history['precision'][-1]\n",
        "recall = network_history.history['recall'][-1]\n",
        "specificity = network_history.history['specificity'][-1]\n",
        "sensitivity = network_history.history['sensitivity'][-1]\n",
        "loss = network_history.history['loss'][-1]\n",
        "print(\"Accuracy =\", accuracy, \"(\", round(accuracy, 4) * 100, \"% )\")\n",
        "print(\"Precision =\", precision)\n",
        "print(\"Recall =\", recall)\n",
        "print(\"F1 score =\", 2 * ((precision * recall) / (precision + recall)))\n",
        "print(\"Specificity =\", specificity)\n",
        "print(\"sensitivity =\", sensitivity)\n",
        "print(\"Loss =\", loss, \"\\n\")\n",
        "\n",
        "print(\"Validation:\")\n",
        "val_accuracy = network_history.history['val_accuracy'][-1]\n",
        "val_precision = network_history.history['val_precision'][-1]\n",
        "val_recall = network_history.history['val_recall'][-1]\n",
        "val_specificity = network_history.history['val_specificity'][-1]\n",
        "val_sensitivity = network_history.history['val_sensitivity'][-1]\n",
        "val_loss = network_history.history['val_loss'][-1]\n",
        "print(\"Validation accuracy =\", val_accuracy, \"(\", round(val_accuracy, 4) * 100, \"% )\")\n",
        "print(\"Validation precision =\", val_precision)\n",
        "print(\"Validation recall =\", val_recall)\n",
        "print(\"F1 score =\", 2 * ((val_precision * val_recall) / (val_precision + val_recall)))\n",
        "print(\"Specificity =\", val_specificity)\n",
        "print(\"sensitivity =\", val_sensitivity)\n",
        "print(\"Loss =\", val_loss)"
      ],
      "execution_count": 167,
      "outputs": [
        {
          "output_type": "stream",
          "name": "stdout",
          "text": [
            "Training:\n",
            "Accuracy = 0.997909665107727 ( 99.79 % )\n",
            "Precision = 0.9924395084381104\n",
            "Recall = 0.984499990940094\n",
            "F1 score = 0.9884538068799972\n",
            "Specificity = 0.999914288520813\n",
            "sensitivity = 0.9998571276664734\n",
            "Loss = 0.14848263561725616 \n",
            "\n",
            "Validation:\n",
            "Validation accuracy = 0.9981299638748169 ( 99.81 % )\n",
            "Validation precision = 0.9930955171585083\n",
            "Validation recall = 0.9862856864929199\n",
            "F1 score = 0.9896788876107846\n",
            "Specificity = 0.999914288520813\n",
            "sensitivity = 1.0\n",
            "Loss = 0.13685327768325806\n"
          ]
        }
      ]
    },
    {
      "cell_type": "markdown",
      "metadata": {
        "id": "y9A3zYGIA-Sa"
      },
      "source": [
        "As can be seen, the results in terms of the metrics considered are even better with the encoded data. Especially, the loss value is much smaller."
      ]
    },
    {
      "cell_type": "code",
      "metadata": {
        "colab": {
          "base_uri": "https://localhost:8080/",
          "height": 542
        },
        "id": "Uy-VUAFjAkwR",
        "outputId": "e83b9ae1-170b-41a0-cc86-f7b3d9e32f39"
      },
      "source": [
        "# Plot results\n",
        "x_plot = list(range(1, n_epochs + 1))\n",
        "# Loss\n",
        "plt.figure()\n",
        "plt.xlabel('Epochs')\n",
        "plt.ylabel('Loss')\n",
        "plt.plot(x_plot, network_history.history['loss'], color = \"dodgerblue\")\n",
        "plt.plot(x_plot, network_history.history['val_loss'], color = \"orangered\")\n",
        "plt.legend(['Training', 'Validation'])\n",
        "# Accuracy\n",
        "plt.figure()\n",
        "plt.xlabel('Epochs')\n",
        "plt.ylabel('Accuracy')\n",
        "plt.plot(x_plot, network_history.history['accuracy'], color = \"dodgerblue\")\n",
        "plt.plot(x_plot, network_history.history['val_accuracy'], color = \"orangered\")\n",
        "plt.legend(['Training', 'Validation'], loc = 4)\n",
        "plt.show()"
      ],
      "execution_count": 168,
      "outputs": [
        {
          "output_type": "display_data",
          "data": {
            "image/png": "[encoded data removed]",
            "text/plain": [
              "<Figure size 432x288 with 1 Axes>"
            ]
          },
          "metadata": {
            "needs_background": "light"
          }
        },
        {
          "output_type": "display_data",
          "data": {
            "image/png": "[encoded data removed]",
            "text/plain": [
              "<Figure size 432x288 with 1 Axes>"
            ]
          },
          "metadata": {
            "needs_background": "light"
          }
        }
      ]
    },
    {
      "cell_type": "markdown",
      "metadata": {
        "id": "IolYl5K3BZ0-"
      },
      "source": [
        "The trends look consistent, and there is no trace of strong overfitting, even if (slightly) higher accuracy and (again, slightly) lower loss in the validation with respect to the training, seem to indicate that the model is in fact overfitting (at least a little bit).\n",
        "\n",
        "\n",
        "\n",
        "---\n",
        "\n"
      ]
    }
  ]
}
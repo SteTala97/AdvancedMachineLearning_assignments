{
  "nbformat": 4,
  "nbformat_minor": 0,
  "metadata": {
    "colab": {
      "name": "Assignment3_Talamona.ipynb",
      "provenance": [],
      "collapsed_sections": [],
      "toc_visible": true
    },
    "kernelspec": {
      "name": "python3",
      "display_name": "Python 3"
    },
    "language_info": {
      "name": "python"
    },
    "accelerator": "GPU"
  },
  "cells": [
    {
      "cell_type": "markdown",
      "metadata": {
        "id": "Tx2eCB27bskz"
      },
      "source": [
        "\n",
        "\n",
        "---\n",
        "\n",
        "\n",
        "\n",
        "---\n",
        "\n",
        "\n",
        "# Stefano Talamona 822452 - Assignment 3 Advanced Machine Learning\n",
        "\n",
        "\n",
        "---\n",
        "\n",
        "\n",
        "\n",
        "---\n",
        "\n"
      ]
    },
    {
      "cell_type": "markdown",
      "metadata": {
        "id": "Ih8HQjAwpoji"
      },
      "source": [
        "## Setup"
      ]
    },
    {
      "cell_type": "code",
      "metadata": {
        "id": "U3Sk-N0XaPE2"
      },
      "source": [
        "import numpy as np\n",
        "from tensorflow import keras\n",
        "from tensorflow.keras import layers, initializers\n",
        "from matplotlib import pyplot as plt"
      ],
      "execution_count": null,
      "outputs": []
    },
    {
      "cell_type": "code",
      "metadata": {
        "id": "tctzcIULb5Oi",
        "colab": {
          "base_uri": "https://localhost:8080/"
        },
        "outputId": "edb4cf8e-7e1e-4059-c4e8-b3397c4c40a6"
      },
      "source": [
        "n_classes = 10\n",
        "input_shape = (28, 28, 1)\n",
        "# Load data\n",
        "(x_train, y_train), (x_test, y_test) = keras.datasets.mnist.load_data()\n",
        "print(\"Data loaded\")"
      ],
      "execution_count": null,
      "outputs": [
        {
          "output_type": "stream",
          "name": "stdout",
          "text": [
            "Data loaded\n"
          ]
        }
      ]
    },
    {
      "cell_type": "code",
      "metadata": {
        "colab": {
          "base_uri": "https://localhost:8080/"
        },
        "id": "CjVH2aSRdDva",
        "outputId": "07aa9c68-8756-45df-da69-77b5018a6464"
      },
      "source": [
        "# Scale from [0, 255] to [0, 1]\n",
        "x_train = x_train.astype(\"float32\")/255\n",
        "x_test = x_test.astype(\"float32\")/255\n",
        "# Rescale to 28x28\n",
        "x_train = np.expand_dims(x_train, -1)\n",
        "x_test = np.expand_dims(x_test, -1)\n",
        "print(\"Shape of x_train:\", x_train.shape) "
      ],
      "execution_count": null,
      "outputs": [
        {
          "output_type": "stream",
          "name": "stdout",
          "text": [
            "Shape of x_train: (60000, 28, 28, 1)\n"
          ]
        }
      ]
    },
    {
      "cell_type": "code",
      "metadata": {
        "colab": {
          "base_uri": "https://localhost:8080/"
        },
        "id": "pfHmy04FeM5_",
        "outputId": "431a2612-8908-49bc-affc-77d600be320b"
      },
      "source": [
        "# Convert class vectors to binary calss matrices\n",
        "y_train = keras.utils.to_categorical(y_train, n_classes)\n",
        "y_test = keras.utils.to_categorical(y_test, n_classes)\n",
        "print(\"Shape of the labels vector:\", y_train.shape)\n",
        "print(\"Labels are one-hot encoded, like this:\", y_train[0])"
      ],
      "execution_count": null,
      "outputs": [
        {
          "output_type": "stream",
          "name": "stdout",
          "text": [
            "Shape of the labels vector: (60000, 10)\n",
            "Labels are one-hot encoded, like this: [0. 0. 0. 0. 0. 1. 0. 0. 0. 0.]\n"
          ]
        }
      ]
    },
    {
      "cell_type": "markdown",
      "metadata": {
        "id": "ZVoH_PXrptXq"
      },
      "source": [
        "# Building the network"
      ]
    },
    {
      "cell_type": "markdown",
      "metadata": {
        "id": "Z-ozlXCt-9Hd"
      },
      "source": [
        "## General structure:\n",
        "The structure of the network is the same of the one used during the lab activity, with the difference that the number of units for each hidden layer is reduced by a factor of ***4*** in order to satisfy the hard constraint on the number of parameters.\n",
        "\n",
        "## Weight initialization:\n",
        "The weight initializer used is the ***He Uniform***, since unlike the ***Glorot*** initializer, it'is the recommended initializer when using ***ReLU*** as activation function ([as said here](https://towardsdatascience.com/hyper-parameters-in-action-part-ii-weight-initializers-35aee1a28404#:~:text=He%20initialization%20is%20the%20recommended%20one%20if%20the%20activation%20function%20is%20a%20ReLU.)).\n",
        "\n",
        "## Batch size and number of epochs:\n",
        "I *decreased the batch size* since the model is now smaller and faster. For the same reason I *doubled the number of epochs*, which could even be higher but ***10*** seemed fine given the results obtained on the test set and the convergence of loss and accuracy shown in the plots in the following section.\n",
        "\n",
        "## Dropout:\n",
        "In order to increase the accuracy I decided to *decrease the dropout probability* from ***0.5*** to ***0.1***. This gave better results in accuracy and was sufficient to prevent overfitting.  \n",
        "\n",
        "## Expectations on the final results:\n",
        "By heavily decreasing the number of learnable parameters I expect the model to perform a bit worse in terms of accuracy and loss value, meaning that the model will show lower accuracy and higher loss."
      ]
    },
    {
      "cell_type": "code",
      "metadata": {
        "colab": {
          "base_uri": "https://localhost:8080/"
        },
        "id": "G9zUGzTye4Pv",
        "outputId": "57471a5f-8690-4b75-cab2-d9be1eccffa5"
      },
      "source": [
        "model = keras.Sequential(\n",
        "    [\n",
        "     keras.Input(shape = input_shape),\n",
        "     layers.Conv2D(8, kernel_size = (3, 3), activation = \"relu\", kernel_initializer = initializers.HeUniform(seed = 1234)),\n",
        "     layers.MaxPooling2D(pool_size = (2, 2)),\n",
        "     layers.Conv2D(16, kernel_size = (3, 3), activation = \"relu\", kernel_initializer = initializers.HeUniform(seed = 1234)),\n",
        "     layers.MaxPooling2D(pool_size = (2, 2)),\n",
        "     layers.Flatten(),\n",
        "     layers.Dropout(0.1),\n",
        "     layers.Dense(n_classes, activation = \"softmax\")\n",
        "    ]\n",
        ")\n",
        "model.summary()"
      ],
      "execution_count": null,
      "outputs": [
        {
          "output_type": "stream",
          "name": "stdout",
          "text": [
            "Model: \"sequential_4\"\n",
            "_________________________________________________________________\n",
            " Layer (type)                Output Shape              Param #   \n",
            "=================================================================\n",
            " conv2d_8 (Conv2D)           (None, 26, 26, 8)         80        \n",
            "                                                                 \n",
            " max_pooling2d_8 (MaxPooling  (None, 13, 13, 8)        0         \n",
            " 2D)                                                             \n",
            "                                                                 \n",
            " conv2d_9 (Conv2D)           (None, 11, 11, 16)        1168      \n",
            "                                                                 \n",
            " max_pooling2d_9 (MaxPooling  (None, 5, 5, 16)         0         \n",
            " 2D)                                                             \n",
            "                                                                 \n",
            " flatten_4 (Flatten)         (None, 400)               0         \n",
            "                                                                 \n",
            " dropout_3 (Dropout)         (None, 400)               0         \n",
            "                                                                 \n",
            " dense_4 (Dense)             (None, 10)                4010      \n",
            "                                                                 \n",
            "=================================================================\n",
            "Total params: 5,258\n",
            "Trainable params: 5,258\n",
            "Non-trainable params: 0\n",
            "_________________________________________________________________\n"
          ]
        }
      ]
    },
    {
      "cell_type": "markdown",
      "metadata": {
        "id": "Du1ZR6iTEKKQ"
      },
      "source": [
        "In the summary above you can see the number of parameters for each layer and the total ammount of parameters of the model."
      ]
    },
    {
      "cell_type": "markdown",
      "metadata": {
        "id": "qXrCVpXsrBZo"
      },
      "source": [
        "## Training and testing"
      ]
    },
    {
      "cell_type": "code",
      "metadata": {
        "colab": {
          "base_uri": "https://localhost:8080/"
        },
        "id": "A5rkcM1xgtx3",
        "outputId": "9ab0a05a-a874-4933-febd-e5b8da62d135"
      },
      "source": [
        "batch_size = 64\n",
        "epochs = 10\n",
        "# Train the model\n",
        "model.compile(loss = \"categorical_crossentropy\", optimizer = \"adam\", metrics = [\"accuracy\"])\n",
        "network_history = model.fit(x_train, y_train, batch_size = batch_size, epochs = epochs, validation_split = 0.1)"
      ],
      "execution_count": null,
      "outputs": [
        {
          "output_type": "stream",
          "name": "stdout",
          "text": [
            "Epoch 1/10\n",
            "844/844 [==============================] - 5s 6ms/step - loss: 0.3627 - accuracy: 0.8907 - val_loss: 0.0997 - val_accuracy: 0.9715\n",
            "Epoch 2/10\n",
            "844/844 [==============================] - 5s 5ms/step - loss: 0.1198 - accuracy: 0.9638 - val_loss: 0.0707 - val_accuracy: 0.9792\n",
            "Epoch 3/10\n",
            "844/844 [==============================] - 5s 5ms/step - loss: 0.0924 - accuracy: 0.9716 - val_loss: 0.0594 - val_accuracy: 0.9835\n",
            "Epoch 4/10\n",
            "844/844 [==============================] - 4s 5ms/step - loss: 0.0780 - accuracy: 0.9758 - val_loss: 0.0540 - val_accuracy: 0.9848\n",
            "Epoch 5/10\n",
            "844/844 [==============================] - 4s 5ms/step - loss: 0.0688 - accuracy: 0.9783 - val_loss: 0.0499 - val_accuracy: 0.9867\n",
            "Epoch 6/10\n",
            "844/844 [==============================] - 5s 5ms/step - loss: 0.0632 - accuracy: 0.9806 - val_loss: 0.0488 - val_accuracy: 0.9865\n",
            "Epoch 7/10\n",
            "844/844 [==============================] - 5s 5ms/step - loss: 0.0579 - accuracy: 0.9821 - val_loss: 0.0477 - val_accuracy: 0.9867\n",
            "Epoch 8/10\n",
            "844/844 [==============================] - 5s 5ms/step - loss: 0.0558 - accuracy: 0.9828 - val_loss: 0.0513 - val_accuracy: 0.9863\n",
            "Epoch 9/10\n",
            "844/844 [==============================] - 5s 5ms/step - loss: 0.0517 - accuracy: 0.9841 - val_loss: 0.0453 - val_accuracy: 0.9870\n",
            "Epoch 10/10\n",
            "844/844 [==============================] - 5s 5ms/step - loss: 0.0495 - accuracy: 0.9843 - val_loss: 0.0439 - val_accuracy: 0.9880\n"
          ]
        }
      ]
    },
    {
      "cell_type": "code",
      "metadata": {
        "colab": {
          "base_uri": "https://localhost:8080/",
          "height": 541
        },
        "id": "uv33iL0htSDJ",
        "outputId": "1b306dad-3c61-4b1e-bdf0-4b7f5ad95cf3"
      },
      "source": [
        "# Plot results\n",
        "x_plot = list(range(1, epochs + 1))\n",
        "# Loss\n",
        "plt.figure()\n",
        "plt.xlabel('Epochs')\n",
        "plt.ylabel('Loss')\n",
        "plt.plot(x_plot, network_history.history['loss'], color = \"dodgerblue\")\n",
        "plt.plot(x_plot, network_history.history['val_loss'], color = \"orangered\")\n",
        "plt.legend(['Training', 'Validation'])\n",
        "# Accuracy\n",
        "plt.figure()\n",
        "plt.xlabel('Epochs')\n",
        "plt.ylabel('Accuracy')\n",
        "plt.plot(x_plot, network_history.history['accuracy'], color = \"dodgerblue\")\n",
        "plt.plot(x_plot, network_history.history['val_accuracy'], color = \"orangered\")\n",
        "plt.legend(['Training', 'Validation'], loc = 4)\n",
        "plt.show()"
      ],
      "execution_count": null,
      "outputs": [
        {
          "output_type": "display_data",
          "data": {
            "image/png": "[encoded data removed]",
            "text/plain": [
              "<Figure size 432x288 with 1 Axes>"
            ]
          },
          "metadata": {
            "needs_background": "light"
          }
        },
        {
          "output_type": "display_data",
          "data": {
            "image/png": "[encoded data removed]",
            "text/plain": [
              "<Figure size 432x288 with 1 Axes>"
            ]
          },
          "metadata": {
            "needs_background": "light"
          }
        }
      ]
    },
    {
      "cell_type": "markdown",
      "metadata": {
        "id": "krpiPOzIvREV"
      },
      "source": [
        "The plots show a nice correlation between the trends of accuracy and loss for training and validation, but we can see how the model actually performs a bit better on the validation set rather than the training set, so it appears to be slightly underfitting. This makes sense since we are using a small ammount of parameters."
      ]
    },
    {
      "cell_type": "code",
      "metadata": {
        "colab": {
          "base_uri": "https://localhost:8080/"
        },
        "id": "ySPqCb8xvg6b",
        "outputId": "64230bcf-2242-42b5-9149-63c825a23eff"
      },
      "source": [
        "# Evaluation on the test set\n",
        "loss, accuracy = model.evaluate(x_test, y_test, verbose = 0)\n",
        "print(\"Test loss:\", loss)\n",
        "print(\"Test accuracy:\", accuracy)"
      ],
      "execution_count": null,
      "outputs": [
        {
          "output_type": "stream",
          "name": "stdout",
          "text": [
            "Test loss: 0.03380265831947327\n",
            "Test accuracy: 0.9894999861717224\n"
          ]
        }
      ]
    },
    {
      "cell_type": "markdown",
      "metadata": {
        "id": "zQABbwT-rNxS"
      },
      "source": [
        "\n",
        "\n",
        "---\n",
        "\n",
        "\n",
        "# Summary of the changes made to the original model and results obtained"
      ]
    },
    {
      "cell_type": "markdown",
      "metadata": {
        "id": "YJuQ0LpUnrVE"
      },
      "source": [
        "## Original model used during the lab:\n",
        "Number of parameters = ***34,826***\n",
        "\n",
        "Batch size = ***128***\n",
        "\n",
        "Weight initializer = ***Glorot Uniform*** (Keras default)\n",
        "\n",
        "Dropout probability = ***0.5***\n",
        "\n",
        "Original structure: \n",
        "\n",
        "     keras.Input(shape = input_shape),\n",
        "     layers.Conv2D(32, kernel_size = (3, 3), activation = \"relu\"),      <===\n",
        "     layers.MaxPooling2D(pool_size = (2, 2)),\n",
        "     layers.Conv2D(64, kernel_size = (3, 3), activation = \"relu\"),      <===\n",
        "     layers.MaxPooling2D(pool_size = (2, 2)),\n",
        "     layers.Flatten(),\n",
        "     layers.Dropout(0.5),                                               <===\n",
        "     layers.Dense(n_classes, activation = \"softmax\")\n",
        "\n",
        "Test loss: ***0.024869529530405998***\n",
        "\n",
        "Test accuracy: ***0.9922000169754028***\n",
        "\n",
        "(these last two results have been recorded during the lab avctivity using 10 epochs instead of 5)"
      ]
    },
    {
      "cell_type": "markdown",
      "metadata": {
        "id": "wtbHPN0wrRbq"
      },
      "source": [
        "## Modified model  with the hard constraint of a maximum of 6K learnable parameters:\n",
        "\n",
        "Number of parameters = ***5,258***\n",
        "\n",
        "Batch size = ***64***\n",
        "\n",
        "Weight initializer = ***He Uniform***\n",
        "\n",
        "Dropout probability = ***0.1***\n",
        "\n",
        "Modified structure:\n",
        "\n",
        "     keras.Input(shape = input_shape),\n",
        "     layers.Conv2D(8, kernel_size = (3, 3), activation = \"relu\", kernel_initializer = initializers.HeUniform(seed = 1234)),    <===\n",
        "     layers.MaxPooling2D(pool_size = (2, 2)),\n",
        "     layers.Conv2D(16, kernel_size = (3, 3), activation = \"relu\", kernel_initializer = initializers.HeUniform(seed = 1234)),   <===\n",
        "     layers.MaxPooling2D(pool_size = (2, 2)),\n",
        "     layers.Flatten(),\n",
        "     layers.Dropout(0.1),                                                                                                      <===\n",
        "     layers.Dense(n_classes, activation = \"softmax\")\n",
        "\n",
        "Test loss: ***0.03380265831947327***\n",
        "\n",
        "Test accuracy: ***0.9894999861717224***"
      ]
    },
    {
      "cell_type": "markdown",
      "metadata": {
        "id": "4LFve2EsrrOc"
      },
      "source": [
        "\n",
        "\n",
        "---\n",
        "\n",
        "# Conclusions\n",
        "\n",
        "The accuracy of the model on the test set decreased by almost ***0.27%***, which does not seem like a huge loss in performance, especially considering that *the modified model now has almost **7** times less learnable parameters* compared to the original one. \n",
        "Another difference in performance can be seen looking at the value of the loss, which is now almost ***40%*** more than the one reached by the original model.\n",
        "\n",
        "These results follow the initial expectations mentioned in the \"*Building the network*\" section."
      ]
    }
  ]
}
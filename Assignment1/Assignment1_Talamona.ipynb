{
  "nbformat": 4,
  "nbformat_minor": 0,
  "metadata": {
    "kernelspec": {
      "display_name": "Python 3",
      "language": "python",
      "name": "python3"
    },
    "language_info": {
      "codemirror_mode": {
        "name": "ipython",
        "version": 3
      },
      "file_extension": ".py",
      "mimetype": "text/x-python",
      "name": "python",
      "nbconvert_exporter": "python",
      "pygments_lexer": "ipython3",
      "version": "3.6.4"
    },
    "colab": {
      "name": "Assignment1_Talamona.ipynb",
      "provenance": [],
      "collapsed_sections": []
    },
    "accelerator": "GPU"
  },
  "cells": [
    {
      "cell_type": "markdown",
      "metadata": {
        "id": "FH5ja_uiJbr6"
      },
      "source": [
        "# Stefano Talamona (822452) - Assignment 1: Predicting Default Payments with Fully-Connected NNs\n",
        "\n",
        "\n",
        "---\n",
        "---"
      ]
    },
    {
      "cell_type": "code",
      "metadata": {
        "colab": {
          "base_uri": "https://localhost:8080/"
        },
        "id": "P8dJc-iRhb1v",
        "outputId": "d4c5eaab-f288-4576-97eb-0a5239a1e3f0"
      },
      "source": [
        "# Connect to Drive to get the .csv files\n",
        "from google.colab import drive\n",
        "drive.mount('/content/drive')"
      ],
      "execution_count": null,
      "outputs": [
        {
          "output_type": "stream",
          "name": "stdout",
          "text": [
            "Mounted at /content/drive\n"
          ]
        }
      ]
    },
    {
      "cell_type": "code",
      "metadata": {
        "id": "UkCioWEedBOE"
      },
      "source": [
        "# Imports\n",
        "import pandas as pd\n",
        "import numpy as np\n",
        "import matplotlib.pyplot as plt\n",
        "from sklearn.preprocessing import StandardScaler, MinMaxScaler\n",
        "from sklearn.model_selection import train_test_split\n",
        "from keras.utils import np_utils\n",
        "from keras.models import Sequential\n",
        "from keras.layers import Dense, Dropout\n",
        "from tensorflow.keras import initializers\n",
        "from tensorflow.keras import optimizers\n",
        "from tensorflow.keras import regularizers\n",
        "from tensorflow.keras import metrics"
      ],
      "execution_count": 28,
      "outputs": []
    },
    {
      "cell_type": "markdown",
      "metadata": {
        "id": "65D8DJ4dwwrH"
      },
      "source": [
        "\n",
        "\n",
        "---\n",
        "\n"
      ]
    },
    {
      "cell_type": "markdown",
      "metadata": {
        "id": "BAsdahBbhTPF"
      },
      "source": [
        "## Loading the data\n",
        "\n",
        "The dataset is composed of three different csv files and contains information on default payments, demographic factors, credit data, history of payment, and bill statements of credit card clients in Taiwan from April 2005 to September 2005. "
      ]
    },
    {
      "cell_type": "code",
      "metadata": {
        "colab": {
          "base_uri": "https://localhost:8080/"
        },
        "id": "NxKl0cyNSvc5",
        "outputId": "00a36cd1-facb-4329-cd95-ef36c2d612da"
      },
      "source": [
        "# Load data from .csv files\n",
        "def load_data(path, load_labels = False):\n",
        "    df = pd.read_csv(path)\n",
        "    X = df.values.copy()\n",
        "    if load_labels:\n",
        "        labels = X[:, 1 :].astype(str)\n",
        "        return labels\n",
        "    else:\n",
        "        X = X[:, 1 :].astype(np.float32)\n",
        "        return X\n",
        "\n",
        "path_train = '/content/drive/MyDrive/data/X_train.csv'\n",
        "path_test = '/content/drive/MyDrive/data/X_test.csv'\n",
        "path_labels_train = '/content/drive/MyDrive/data/y_train.csv'\n",
        "X_train = load_data(path_train, load_labels = False)\n",
        "X_test = load_data(path_test, load_labels = False)\n",
        "y_train = load_data(path_labels_train, load_labels = True)\n",
        "\n",
        "print(\"Data correctly loaded from .csv files\")"
      ],
      "execution_count": 29,
      "outputs": [
        {
          "output_type": "stream",
          "name": "stdout",
          "text": [
            "Data correctly loaded from .csv files\n"
          ]
        }
      ]
    },
    {
      "cell_type": "markdown",
      "metadata": {
        "id": "DOIUnM8awzAh"
      },
      "source": [
        "\n",
        "\n",
        "---\n",
        "\n"
      ]
    },
    {
      "cell_type": "markdown",
      "metadata": {
        "id": "0-FgzT_cJbsH"
      },
      "source": [
        "##Inspecting the data\n",
        "\n",
        "The data dimensionality is shown in the output of the cell below. Most of the features are represented by continuous variables (LIMIT_BAL, BILL_AMT* , PAY_AMT* ), while others are categorical (SEX, EDUCATION, MARRIAGE, PAY*) and discrete (AGE).\n",
        "\n",
        "\n"
      ]
    },
    {
      "cell_type": "code",
      "metadata": {
        "id": "8vSiz47HXYYM",
        "colab": {
          "base_uri": "https://localhost:8080/"
        },
        "outputId": "2ef4c82d-ff73-4672-f1dd-41b0d069a095"
      },
      "source": [
        "print(\"Training set shape:\", X_train.shape)\n",
        "print(\"Test set shape:\", X_test.shape)\n",
        "print(\"Total number of features:\", X_train.shape[1], \"\\n\")\n",
        "# Example of data\n",
        "print(\"First raw of the dataset:\\n\", X_train[0].astype(int))"
      ],
      "execution_count": null,
      "outputs": [
        {
          "output_type": "stream",
          "name": "stdout",
          "text": [
            "Training set shape: (24000, 23)\n",
            "Test set shape: (6000, 23)\n",
            "Total number of features: 23 \n",
            "\n",
            "First raw of the dataset:\n",
            " [80000     2     2     2    24     0     0     0     0     0     0 75125\n",
            " 77353 78321 73731 39643 39457  3503  5001  2092  1218  1445   878]\n"
          ]
        }
      ]
    },
    {
      "cell_type": "markdown",
      "metadata": {
        "id": "uza6RyaEw1B8"
      },
      "source": [
        "---"
      ]
    },
    {
      "cell_type": "markdown",
      "metadata": {
        "id": "PjWrQr5vWTTG"
      },
      "source": [
        "## Preprocessing\n",
        "\n",
        "Since the presence of continuous and discrete/categorical variables, it makes even more sense to normalize all these values by removing the mean and scaling to unit variance in order to have all of them on the same scale (using the \"MinMaxScaler\" scaler provided by scikit-learn). This decision was taken because no further analysis (PCA for example) is required for the assignment, and this normalization step seems to be some sort of standard procedure in most of the implementations of ML models. \n",
        "\n",
        "This is in part the same reason why I decided to keep all of the 23 features (which may actually even result in a non-optimal choice if further analysis on the data would be performed). The other reason why I kept them all is because the number of features seems reasonable given the size of the dataset.\n",
        "\n",
        "I also specified the argument \"stratify\" in function \"train_test_split\" which, if fed the y, it will ensure the same number of samples for each class are in training set and test (validation) set proportionally."
      ]
    },
    {
      "cell_type": "code",
      "metadata": {
        "id": "J84aUJVUJbsI",
        "colab": {
          "base_uri": "https://localhost:8080/"
        },
        "outputId": "815e3982-747b-4107-92ca-534f87e0a419"
      },
      "source": [
        "def preprocess_data(X, scaler = None):\n",
        "    # Standardise features by removing the mean and scaling to unit variance\n",
        "    if not scaler:\n",
        "        scaler = StandardScaler()\n",
        "    scaler.fit(X)\n",
        "    X = scaler.transform(X)\n",
        "    return X, scaler\n",
        "\n",
        "n_classes = 2\n",
        "n_features = X_train.shape[1]\n",
        "scaler = MinMaxScaler()\n",
        "X_train, scaler = preprocess_data(X_train, scaler)\n",
        "X_test, scaler = preprocess_data(X_test, scaler)\n",
        "print(\"Scaler used to scale train and test sets:\", scaler)\n",
        "\n",
        "# The following conversion is carried out using one-hot encoding\n",
        "Y_train = np_utils.to_categorical(y_train, n_classes)\n",
        "\n",
        "print(\"\\nDivide into training and validation:\")\n",
        "X_train, X_val, Y_train, Y_val = train_test_split(X_train, Y_train, stratify = Y_train)\n",
        "print(\"Training set size =\", X_train.shape[0])\n",
        "print(\"Validation set size =\", X_val.shape[0])"
      ],
      "execution_count": 30,
      "outputs": [
        {
          "output_type": "stream",
          "name": "stdout",
          "text": [
            "Scaler used to scale train and test sets: MinMaxScaler(copy=True, feature_range=(0, 1))\n",
            "\n",
            "Divide into training and validation:\n",
            "Training set size = 18000\n",
            "Validation set size = 6000\n"
          ]
        }
      ]
    },
    {
      "cell_type": "markdown",
      "metadata": {
        "id": "U-EkoxnRtQm5"
      },
      "source": [
        "There is some disparity in the distribution of positive and negative samples, but not too strong to require a rebalance (even if bringing it to a more balanced distribution would be preferred, like 65% - 35%)."
      ]
    },
    {
      "cell_type": "code",
      "metadata": {
        "colab": {
          "base_uri": "https://localhost:8080/"
        },
        "id": "GwYQaqZhtUsn",
        "outputId": "8b31a3ee-7190-4c6c-c5ae-f23d69da7184"
      },
      "source": [
        "n_labels = Y_train.sum(axis = 0)\n",
        "print(\"Number of negative samples =\", int(n_labels[0]))\n",
        "print(\"Number of positive samples =\", int(n_labels[1]))\n",
        "tot = n_labels[0] + n_labels[1]\n",
        "print(\"The distribution is:\")\n",
        "print(round(100 / tot * n_labels[0], 2), \"% = negative\")\n",
        "print(round(100 / tot * n_labels[1], 2), \"% = positive\")"
      ],
      "execution_count": 31,
      "outputs": [
        {
          "output_type": "stream",
          "name": "stdout",
          "text": [
            "Number of negative samples = 14008\n",
            "Number of positive samples = 3992\n",
            "The distribution is:\n",
            "77.82 % = negative\n",
            "22.18 % = positive\n"
          ]
        }
      ]
    },
    {
      "cell_type": "markdown",
      "metadata": {
        "id": "fie4RGA2w3OO"
      },
      "source": [
        "\n",
        "\n",
        "---\n",
        "\n"
      ]
    },
    {
      "cell_type": "markdown",
      "metadata": {
        "id": "Eb9aljYxJbsK"
      },
      "source": [
        "## Building the network\n",
        "\n",
        "Taking as example the NNs built in the previous lab activities, the structure of the NN that I implemented can be summed up like this:\n",
        "\n",
        "**FC@256+ReLU ---> FC@64+ReLU ---> FC@16+ReLU ---> FC@n_classes+sigmoid**\n",
        "\n",
        "Because we are dealing with fully connected neural networks, all the layers in the model are Dense() objects.\n",
        "I decided to add a dropout probability of 0.5 (chosen after a few tries with different probabilities) after each hidden layer, since the first results showed a **strong overfitting** behaviour of the model. For the same reason I restricted both the number and dimensions of the layers in the original structure I used in the first try, which was:\n",
        "\n",
        "FC@512+ReLU ---> FC@256+ReLU---> FC@128+ReLU ---> FC@64+ReLU ---> FC@32+ReLU ---> FC@n_classes+sigmoid\n",
        "\n",
        "For the hyperparameter '*optimizer*' I considered all the optimizers available in Keras, and based on the descriptions given on the [documentation](https://keras.io/api/optimizers/), I tried a few of them with different values for the learning rate, starting from the default value 0.001 and increasing/decreasing it by 100% a few times (usually getting worse results in the training metrics considered). \n",
        "First I decided to go for the Adam optimizer, which is a stochastic gradient descent method that is based on adaptive estimation of first-order and second-order moments. Since according to [Kingma et al., 2014](https://arxiv.org/abs/1412.6980) Adam optimizer is \"well suited for problems that are large in terms of data/parameters\", and our problem is not that large in terms of data/parameters (not that much data examples and not that deep network), this did not seem to be the best choice, but once i tried to use other optimizers, for example RMSprop, i did not get any effect on the behaviour of the model, and i noticed just a tiny decrease in the performance metrics (less than 1% in accuracy). I ultimately decided to go for the Adam optimizer with standard learning rate value.\n",
        "\n",
        "The initializer used here is the same used during the lab activities (GlorotUniform), since varing this hyperparameter did not seem to have strong effects on the results.\n",
        "\n",
        "The activation function used in each layer is the widely used Rectified Linear Unit (ReLU), except of course for the output layer where, since we are dealing with a binary classification problem, I chose to use the Logistic Function (sigmoid). \n",
        "\n",
        "The training metric I considered is the binary accuracy, which is used to compute the mean accuracy rate across all predictions for binary classification problems.\n",
        "\n",
        "Last but not least, I used the BinaryCrossentropy as loss function, since it is meant to be used in binary classification applications like this one."
      ]
    },
    {
      "cell_type": "code",
      "metadata": {
        "id": "AS3zsRlBYHKW"
      },
      "source": [
        "initializer = initializers.GlorotUniform(seed = 1234)\n",
        "#optimizer = optimizers.SGD(learning_rate = 0.001)\n",
        "optimizer = optimizers.Adam(learning_rate = 0.001)\n",
        "#optimizer = optimizers.RMSprop(learning_rate = 0.001)\n",
        "\n",
        "model = Sequential()\n",
        "\"\"\" FC@256+ReLU \"\"\"\n",
        "model.add(Dense(256, activation = \"relu\", kernel_initializer = initializer))\n",
        "model.add(Dropout(rate = 0.5))\n",
        "\"\"\" FC@64+ReLU \"\"\"\n",
        "model.add(Dense(64, activation = \"relu\", kernel_initializer = initializer))\n",
        "model.add(Dropout(rate = 0.5))\n",
        "\"\"\" FC@16+ReLU \"\"\"\n",
        "model.add(Dense(16, activation = \"relu\", kernel_initializer = initializer))\n",
        "model.add(Dropout(rate = 0.5))\n",
        "\"\"\" FC@n_classes+sigmoid \"\"\"\n",
        "model.add(Dense(n_classes, activation = \"sigmoid\", kernel_initializer = initializer))\n",
        "\n",
        "n_epochs = 25\n",
        "batch_size = 128\n",
        "\n",
        "model.compile(optimizer = optimizer, loss = \"binary_crossentropy\",\n",
        "              metrics = metrics.CategoricalAccuracy(name = 'accuracy'))"
      ],
      "execution_count": 32,
      "outputs": []
    },
    {
      "cell_type": "code",
      "metadata": {
        "colab": {
          "base_uri": "https://localhost:8080/"
        },
        "id": "Sz1ulkL47BjM",
        "outputId": "1004be15-7c29-4660-e2fb-961efef10f81"
      },
      "source": [
        "# Start training\n",
        "network_history = model.fit(X_train, Y_train, batch_size = batch_size, epochs = n_epochs, verbose = 1)\n",
        "print(\"\\n\\nTraining complete!\")"
      ],
      "execution_count": 33,
      "outputs": [
        {
          "output_type": "stream",
          "name": "stdout",
          "text": [
            "Epoch 1/25\n",
            "141/141 [==============================] - 2s 4ms/step - loss: 0.5570 - accuracy: 0.7698\n",
            "Epoch 2/25\n",
            "141/141 [==============================] - 1s 4ms/step - loss: 0.5091 - accuracy: 0.7816\n",
            "Epoch 3/25\n",
            "141/141 [==============================] - 1s 4ms/step - loss: 0.4957 - accuracy: 0.7998\n",
            "Epoch 4/25\n",
            "141/141 [==============================] - 1s 4ms/step - loss: 0.4799 - accuracy: 0.8019\n",
            "Epoch 5/25\n",
            "141/141 [==============================] - 1s 4ms/step - loss: 0.4766 - accuracy: 0.8049\n",
            "Epoch 6/25\n",
            "141/141 [==============================] - 1s 4ms/step - loss: 0.4691 - accuracy: 0.8086\n",
            "Epoch 7/25\n",
            "141/141 [==============================] - 1s 4ms/step - loss: 0.4678 - accuracy: 0.8082\n",
            "Epoch 8/25\n",
            "141/141 [==============================] - 1s 4ms/step - loss: 0.4624 - accuracy: 0.8057\n",
            "Epoch 9/25\n",
            "141/141 [==============================] - 1s 4ms/step - loss: 0.4607 - accuracy: 0.8078\n",
            "Epoch 10/25\n",
            "141/141 [==============================] - 1s 4ms/step - loss: 0.4596 - accuracy: 0.8078\n",
            "Epoch 11/25\n",
            "141/141 [==============================] - 1s 4ms/step - loss: 0.4605 - accuracy: 0.8060\n",
            "Epoch 12/25\n",
            "141/141 [==============================] - 1s 4ms/step - loss: 0.4589 - accuracy: 0.8067\n",
            "Epoch 13/25\n",
            "141/141 [==============================] - 0s 3ms/step - loss: 0.4601 - accuracy: 0.8037\n",
            "Epoch 14/25\n",
            "141/141 [==============================] - 1s 4ms/step - loss: 0.4579 - accuracy: 0.8074\n",
            "Epoch 15/25\n",
            "141/141 [==============================] - 0s 3ms/step - loss: 0.4568 - accuracy: 0.8076\n",
            "Epoch 16/25\n",
            "141/141 [==============================] - 0s 4ms/step - loss: 0.4555 - accuracy: 0.8083\n",
            "Epoch 17/25\n",
            "141/141 [==============================] - 1s 4ms/step - loss: 0.4530 - accuracy: 0.8056\n",
            "Epoch 18/25\n",
            "141/141 [==============================] - 1s 4ms/step - loss: 0.4558 - accuracy: 0.8037\n",
            "Epoch 19/25\n",
            "141/141 [==============================] - 1s 4ms/step - loss: 0.4531 - accuracy: 0.8087\n",
            "Epoch 20/25\n",
            "141/141 [==============================] - 1s 4ms/step - loss: 0.4554 - accuracy: 0.8068\n",
            "Epoch 21/25\n",
            "141/141 [==============================] - 1s 4ms/step - loss: 0.4529 - accuracy: 0.8054\n",
            "Epoch 22/25\n",
            "141/141 [==============================] - 1s 4ms/step - loss: 0.4504 - accuracy: 0.8095\n",
            "Epoch 23/25\n",
            "141/141 [==============================] - 0s 3ms/step - loss: 0.4502 - accuracy: 0.8084\n",
            "Epoch 24/25\n",
            "141/141 [==============================] - 0s 3ms/step - loss: 0.4518 - accuracy: 0.8072\n",
            "Epoch 25/25\n",
            "141/141 [==============================] - 1s 4ms/step - loss: 0.4502 - accuracy: 0.8085\n",
            "\n",
            "\n",
            "Training complete!\n"
          ]
        }
      ]
    },
    {
      "cell_type": "markdown",
      "metadata": {
        "id": "_vwJMrINw6dd"
      },
      "source": [
        "\n",
        "\n",
        "---\n",
        "\n"
      ]
    },
    {
      "cell_type": "markdown",
      "metadata": {
        "id": "8w7UIdtIWuCD"
      },
      "source": [
        "## Training results\n",
        "\n",
        "As can be seen by executing the code in the cell below, the model performed decently in the training step, obtaining a percentage of approximately 81% in accuracy, value which is also consistent with the other metrics considered (see the part about validation). \n",
        "\n",
        "A plot is also produced in order to give a graphical visualization of the trend of loss and accuracy during each epoch. In both of these it can be seen how these trends tend to converge around some values at the end of the training step. The study of these plots has been fundamental to chose an appropriate value for the number of epochs. At first, I tried with 100 epochs, which gave better results in terms of accuracy. Incrementing by 100 epochs each time, I had been able to obtain even better results, reaching almost 98% in accuracy with 500 epochs (**NOTE**: this is referred to the first model already discussed in the previous text cell). Anyway, after a few changes in the network architecture, the loss seemed to converge much sooner than 500 epochs (even sooner than 100), so I tried to decrease the number of epochs dropping it to 25."
      ]
    },
    {
      "cell_type": "code",
      "metadata": {
        "id": "4brGmh1BJbsL",
        "colab": {
          "base_uri": "https://localhost:8080/"
        },
        "outputId": "2004b87d-324b-45db-9dcb-464280ec71fb"
      },
      "source": [
        "# Show results\n",
        "accuracy = network_history.history[\"accuracy\"][-1]\n",
        "print(\"Accuracy =\", accuracy)"
      ],
      "execution_count": 34,
      "outputs": [
        {
          "output_type": "stream",
          "name": "stdout",
          "text": [
            "Accuracy = 0.8084999918937683\n"
          ]
        }
      ]
    },
    {
      "cell_type": "code",
      "metadata": {
        "colab": {
          "base_uri": "https://localhost:8080/",
          "height": 541
        },
        "id": "lUgGPEQe9nA-",
        "outputId": "166379a5-f757-44ab-faf0-366d3f837a78"
      },
      "source": [
        "# Plot results\n",
        "x_plot = list(range(1, n_epochs + 1))\n",
        "# Loss\n",
        "plt.figure()\n",
        "plt.xlabel('Epochs')\n",
        "plt.ylabel('Loss')\n",
        "plt.plot(x_plot, network_history.history['loss'], color = \"dodgerblue\")\n",
        "plt.legend(['Training'])\n",
        "# Accuracy\n",
        "plt.figure()\n",
        "plt.xlabel('Epochs')\n",
        "plt.ylabel('Accuracy')\n",
        "plt.plot(x_plot, network_history.history['accuracy'], color = \"dodgerblue\")\n",
        "plt.legend(['Training'], loc='lower right')\n",
        "plt.show()"
      ],
      "execution_count": 35,
      "outputs": [
        {
          "output_type": "display_data",
          "data": {
            "image/png": "[encoded data removed]",
            "text/plain": [
              "<Figure size 432x288 with 1 Axes>"
            ]
          },
          "metadata": {
            "needs_background": "light"
          }
        },
        {
          "output_type": "display_data",
          "data": {
            "image/png": "[encoded data removed]",
            "text/plain": [
              "<Figure size 432x288 with 1 Axes>"
            ]
          },
          "metadata": {
            "needs_background": "light"
          }
        }
      ]
    },
    {
      "cell_type": "markdown",
      "metadata": {
        "id": "3xfB0SrIw8wu"
      },
      "source": [
        "\n",
        "\n",
        "---\n",
        "\n"
      ]
    },
    {
      "cell_type": "markdown",
      "metadata": {
        "id": "2jiOZzvyJbsN"
      },
      "source": [
        "## Model validation\n",
        "\n",
        "The process of validation is the same shown during the lab activities, with the only difference being the number of metrics considered. In order to understend how well the model performed during validation, I decided to use the following metrics:\n",
        "*   BinaryAccuracy;\n",
        "*   Precision;\n",
        "*   Recall;\n",
        "*   F1 score;\n",
        "\n",
        "These can be seen to be very consistent with each other, giving a reason to believe that even though the performance is not that extraordinary itself, there is no sign of inbalance between the classification of positive and negative examples.\n",
        "\n",
        "As I said before, I tried different optimizers, initializers, number of epochs and number/dimension for the hidden layers, reaching an accuracy of almost 98% in some cases. Unfortunately, these promissing results were made possible only with a ridiculous ammount of overfitting, which was impossible to not notice from the graphs of training/validation loss/accuracy. In fact, validation loss kept on growing while its accuracy decreased, and the opposite for the training data. The trends looked almost simmetrical, leaving no doubts about the presence of heavy overfitting. \n",
        "\n",
        "I ultimately decided to try my best to remove the overfitting phenomenon, even at the cost of a much lower accuracy level (since it would not make that much sense to reach 99% of accuracy in the training set if this kind of result cannot be replicated on any other set of the same data). This is the main motivation behind the decisions discussed above."
      ]
    },
    {
      "cell_type": "code",
      "metadata": {
        "id": "sgGlAIaEJbsO",
        "colab": {
          "base_uri": "https://localhost:8080/"
        },
        "outputId": "30ee4912-1482-4c1f-a99d-717362d457ff"
      },
      "source": [
        "metrics = [\n",
        "      metrics.BinaryAccuracy(name = 'accuracy'),\n",
        "      metrics.Precision(name = 'precision'),\n",
        "      metrics.Recall(name = 'recall')\n",
        "]\n",
        "model.compile(optimizer = optimizer, loss = \"binary_crossentropy\",\n",
        "              metrics = metrics)\n",
        "\n",
        "# Train and validate\n",
        "network_history = model.fit(X_train, Y_train, batch_size = batch_size, epochs = n_epochs,\n",
        "                            verbose = 2, validation_data = (X_val, Y_val))"
      ],
      "execution_count": 36,
      "outputs": [
        {
          "output_type": "stream",
          "name": "stdout",
          "text": [
            "Epoch 1/25\n",
            "141/141 - 1s - loss: 0.4498 - accuracy: 0.8084 - precision: 0.8089 - recall: 0.8076 - val_loss: 0.4413 - val_accuracy: 0.8188 - val_precision: 0.8191 - val_recall: 0.8182\n",
            "Epoch 2/25\n",
            "141/141 - 0s - loss: 0.4493 - accuracy: 0.8096 - precision: 0.8099 - recall: 0.8091 - val_loss: 0.4407 - val_accuracy: 0.8184 - val_precision: 0.8187 - val_recall: 0.8180\n",
            "Epoch 3/25\n",
            "141/141 - 1s - loss: 0.4497 - accuracy: 0.8094 - precision: 0.8099 - recall: 0.8088 - val_loss: 0.4432 - val_accuracy: 0.8197 - val_precision: 0.8199 - val_recall: 0.8193\n",
            "Epoch 4/25\n",
            "141/141 - 0s - loss: 0.4490 - accuracy: 0.8074 - precision: 0.8076 - recall: 0.8071 - val_loss: 0.4411 - val_accuracy: 0.8177 - val_precision: 0.8181 - val_recall: 0.8172\n",
            "Epoch 5/25\n",
            "141/141 - 1s - loss: 0.4480 - accuracy: 0.8108 - precision: 0.8111 - recall: 0.8101 - val_loss: 0.4399 - val_accuracy: 0.8190 - val_precision: 0.8191 - val_recall: 0.8188\n",
            "Epoch 6/25\n",
            "141/141 - 1s - loss: 0.4487 - accuracy: 0.8101 - precision: 0.8104 - recall: 0.8098 - val_loss: 0.4398 - val_accuracy: 0.8177 - val_precision: 0.8180 - val_recall: 0.8173\n",
            "Epoch 7/25\n",
            "141/141 - 0s - loss: 0.4496 - accuracy: 0.8070 - precision: 0.8073 - recall: 0.8066 - val_loss: 0.4397 - val_accuracy: 0.8199 - val_precision: 0.8204 - val_recall: 0.8192\n",
            "Epoch 8/25\n",
            "141/141 - 1s - loss: 0.4485 - accuracy: 0.8079 - precision: 0.8081 - recall: 0.8076 - val_loss: 0.4392 - val_accuracy: 0.8191 - val_precision: 0.8193 - val_recall: 0.8187\n",
            "Epoch 9/25\n",
            "141/141 - 0s - loss: 0.4504 - accuracy: 0.8070 - precision: 0.8072 - recall: 0.8067 - val_loss: 0.4400 - val_accuracy: 0.8189 - val_precision: 0.8197 - val_recall: 0.8177\n",
            "Epoch 10/25\n",
            "141/141 - 0s - loss: 0.4485 - accuracy: 0.8111 - precision: 0.8110 - recall: 0.8112 - val_loss: 0.4397 - val_accuracy: 0.8173 - val_precision: 0.8177 - val_recall: 0.8168\n",
            "Epoch 11/25\n",
            "141/141 - 0s - loss: 0.4465 - accuracy: 0.8100 - precision: 0.8104 - recall: 0.8095 - val_loss: 0.4396 - val_accuracy: 0.8175 - val_precision: 0.8181 - val_recall: 0.8165\n",
            "Epoch 12/25\n",
            "141/141 - 1s - loss: 0.4460 - accuracy: 0.8126 - precision: 0.8128 - recall: 0.8123 - val_loss: 0.4383 - val_accuracy: 0.8183 - val_precision: 0.8184 - val_recall: 0.8182\n",
            "Epoch 13/25\n",
            "141/141 - 0s - loss: 0.4474 - accuracy: 0.8100 - precision: 0.8101 - recall: 0.8098 - val_loss: 0.4394 - val_accuracy: 0.8200 - val_precision: 0.8202 - val_recall: 0.8197\n",
            "Epoch 14/25\n",
            "141/141 - 0s - loss: 0.4474 - accuracy: 0.8068 - precision: 0.8071 - recall: 0.8063 - val_loss: 0.4385 - val_accuracy: 0.8197 - val_precision: 0.8198 - val_recall: 0.8195\n",
            "Epoch 15/25\n",
            "141/141 - 0s - loss: 0.4454 - accuracy: 0.8104 - precision: 0.8104 - recall: 0.8103 - val_loss: 0.4382 - val_accuracy: 0.8202 - val_precision: 0.8203 - val_recall: 0.8200\n",
            "Epoch 16/25\n",
            "141/141 - 0s - loss: 0.4449 - accuracy: 0.8108 - precision: 0.8109 - recall: 0.8107 - val_loss: 0.4373 - val_accuracy: 0.8189 - val_precision: 0.8191 - val_recall: 0.8187\n",
            "Epoch 17/25\n",
            "141/141 - 0s - loss: 0.4473 - accuracy: 0.8106 - precision: 0.8107 - recall: 0.8104 - val_loss: 0.4398 - val_accuracy: 0.8193 - val_precision: 0.8195 - val_recall: 0.8190\n",
            "Epoch 18/25\n",
            "141/141 - 0s - loss: 0.4471 - accuracy: 0.8104 - precision: 0.8105 - recall: 0.8103 - val_loss: 0.4379 - val_accuracy: 0.8200 - val_precision: 0.8202 - val_recall: 0.8197\n",
            "Epoch 19/25\n",
            "141/141 - 0s - loss: 0.4443 - accuracy: 0.8099 - precision: 0.8100 - recall: 0.8098 - val_loss: 0.4376 - val_accuracy: 0.8195 - val_precision: 0.8196 - val_recall: 0.8193\n",
            "Epoch 20/25\n",
            "141/141 - 0s - loss: 0.4451 - accuracy: 0.8136 - precision: 0.8137 - recall: 0.8134 - val_loss: 0.4368 - val_accuracy: 0.8197 - val_precision: 0.8198 - val_recall: 0.8195\n",
            "Epoch 21/25\n",
            "141/141 - 1s - loss: 0.4423 - accuracy: 0.8107 - precision: 0.8107 - recall: 0.8108 - val_loss: 0.4373 - val_accuracy: 0.8199 - val_precision: 0.8200 - val_recall: 0.8198\n",
            "Epoch 22/25\n",
            "141/141 - 0s - loss: 0.4451 - accuracy: 0.8101 - precision: 0.8102 - recall: 0.8101 - val_loss: 0.4400 - val_accuracy: 0.8179 - val_precision: 0.8180 - val_recall: 0.8178\n",
            "Epoch 23/25\n",
            "141/141 - 0s - loss: 0.4454 - accuracy: 0.8085 - precision: 0.8086 - recall: 0.8084 - val_loss: 0.4384 - val_accuracy: 0.8189 - val_precision: 0.8190 - val_recall: 0.8188\n",
            "Epoch 24/25\n",
            "141/141 - 0s - loss: 0.4438 - accuracy: 0.8112 - precision: 0.8113 - recall: 0.8110 - val_loss: 0.4378 - val_accuracy: 0.8186 - val_precision: 0.8186 - val_recall: 0.8185\n",
            "Epoch 25/25\n",
            "141/141 - 1s - loss: 0.4415 - accuracy: 0.8138 - precision: 0.8138 - recall: 0.8137 - val_loss: 0.4372 - val_accuracy: 0.8188 - val_precision: 0.8189 - val_recall: 0.8187\n"
          ]
        }
      ]
    },
    {
      "cell_type": "code",
      "metadata": {
        "colab": {
          "base_uri": "https://localhost:8080/"
        },
        "id": "RHwApzp2QdOa",
        "outputId": "d9a36d08-7571-4feb-c805-db8aac1e1cfd"
      },
      "source": [
        "# Show results\n",
        "print(\"Training:\")\n",
        "accuracy = network_history.history['accuracy'][-1]\n",
        "precision = network_history.history['precision'][-1]\n",
        "recall = network_history.history['recall'][-1]\n",
        "print(\"Accuracy =\", accuracy)\n",
        "print(\"Precision =\", precision)\n",
        "print(\"Recall =\", recall)\n",
        "print(\"F1 score =\", 2 * ((precision * recall) / (precision + recall)) ,\"\\n\")\n",
        "\n",
        "print(\"Validation:\")\n",
        "val_accuracy = network_history.history['val_accuracy'][-1]\n",
        "val_precision = network_history.history['val_precision'][-1]\n",
        "val_recall = network_history.history['val_recall'][-1]\n",
        "print(\"Validation accuracy =\", val_accuracy)\n",
        "print(\"Validation precision =\", val_precision)\n",
        "print(\"Validation recall =\", val_recall)\n",
        "print(\"F1 score =\", 2 * ((val_precision * val_recall) / (val_precision + val_recall)))"
      ],
      "execution_count": 37,
      "outputs": [
        {
          "output_type": "stream",
          "name": "stdout",
          "text": [
            "Training:\n",
            "Accuracy = 0.8137778043746948\n",
            "Precision = 0.813847541809082\n",
            "Recall = 0.8136666417121887\n",
            "F1 score = 0.8137570817070071 \n",
            "\n",
            "Validation:\n",
            "Validation accuracy = 0.8188333511352539\n",
            "Validation precision = 0.8189396262168884\n",
            "Validation recall = 0.8186666369438171\n",
            "F1 score = 0.8188031088266711\n"
          ]
        }
      ]
    },
    {
      "cell_type": "code",
      "metadata": {
        "colab": {
          "base_uri": "https://localhost:8080/",
          "height": 541
        },
        "id": "SJuscS34qhNJ",
        "outputId": "c6380674-50c6-42a5-dc15-57f48f6fca91"
      },
      "source": [
        "# Plot results\n",
        "x_plot = list(range(1, n_epochs + 1))\n",
        "# Loss\n",
        "plt.figure()\n",
        "plt.xlabel('Epochs')\n",
        "plt.ylabel('Loss')\n",
        "plt.plot(x_plot, network_history.history['loss'], color = \"dodgerblue\")\n",
        "plt.plot(x_plot, network_history.history['val_loss'], color = \"orangered\")\n",
        "plt.legend(['Training', 'Validation'], loc = 6)\n",
        "# Accuracy\n",
        "plt.figure()\n",
        "plt.xlabel('Epochs')\n",
        "plt.ylabel('Accuracy')\n",
        "plt.plot(x_plot, network_history.history['accuracy'], color = \"dodgerblue\")\n",
        "plt.plot(x_plot, network_history.history['val_accuracy'], color = \"orangered\")\n",
        "plt.legend(['Training', 'Validation'], loc = 6)\n",
        "plt.show()"
      ],
      "execution_count": 38,
      "outputs": [
        {
          "output_type": "display_data",
          "data": {
            "image/png": "[encoded data removed]",
            "text/plain": [
              "<Figure size 432x288 with 1 Axes>"
            ]
          },
          "metadata": {
            "needs_background": "light"
          }
        },
        {
          "output_type": "display_data",
          "data": {
            "image/png": "[encoded data removed]",
            "text/plain": [
              "<Figure size 432x288 with 1 Axes>"
            ]
          },
          "metadata": {
            "needs_background": "light"
          }
        }
      ]
    },
    {
      "cell_type": "markdown",
      "metadata": {
        "id": "7F66YfCD-t0O"
      },
      "source": [
        "From the two plots just shown, there is no sign of over/underfitting, since the trend of the loss of the validation subset looks consistent with the one of the training (just shifted by a small offset). This shows a good generalization ability of the model."
      ]
    },
    {
      "cell_type": "markdown",
      "metadata": {
        "id": "CdbsMyRjw_1P"
      },
      "source": [
        "\n",
        "\n",
        "---\n",
        "\n"
      ]
    },
    {
      "cell_type": "markdown",
      "metadata": {
        "id": "5MhCwXroWmf9"
      },
      "source": [
        "## Making predictions on the provided test set\n",
        "\n",
        "Given the results obtained during the validation process, since the model seems to have a good generalization ability, I think that the results of the testing on the provided test set will show pretty much the same values for the metrics considered as for the ones obtained during the previous step, with a level of accuracy around 80-82%."
      ]
    },
    {
      "cell_type": "code",
      "metadata": {
        "id": "fbtA2vJRWpMY",
        "colab": {
          "base_uri": "https://localhost:8080/"
        },
        "outputId": "5173b446-3657-4263-9c1b-ebcbb3eefce5"
      },
      "source": [
        "predictions = model.predict(X_test)\n",
        "print(predictions)\n",
        "print(\"\\nShape of the predicion vector:\", predictions.shape)"
      ],
      "execution_count": 40,
      "outputs": [
        {
          "output_type": "stream",
          "name": "stdout",
          "text": [
            "[[0.77605075 0.22330937]\n",
            " [0.91208255 0.08816388]\n",
            " [0.84258795 0.15726668]\n",
            " ...\n",
            " [0.7294119  0.2699773 ]\n",
            " [0.78428864 0.2151576 ]\n",
            " [0.94879997 0.05151239]]\n",
            "\n",
            "Shape of the predicion vector: (6000, 2)\n"
          ]
        }
      ]
    },
    {
      "cell_type": "markdown",
      "metadata": {
        "id": "5rePg-emxBWi"
      },
      "source": [
        "\n",
        "\n",
        "---\n",
        "\n"
      ]
    },
    {
      "cell_type": "markdown",
      "metadata": {
        "id": "9w-sa4AlaBJg"
      },
      "source": [
        "# (OPTIONAL) Exporting the predictions in a .txt file"
      ]
    },
    {
      "cell_type": "code",
      "metadata": {
        "id": "tTPSYsbVaAQ_"
      },
      "source": [
        "file_path = '/content/drive/MyDrive/data/Stefano_Talamona_822452_score2.txt'\n",
        "f = open(file_path, \"w\")\n",
        "for pred in predictions:\n",
        "  f.write('0\\n') if pred[0] > pred[1] else f.write('1\\n')\n",
        "f.close()"
      ],
      "execution_count": 46,
      "outputs": []
    },
    {
      "cell_type": "markdown",
      "metadata": {
        "id": "rGwK_2KCsNK6"
      },
      "source": [
        "Looking at the text file produced, it can be seen that most of the predictions are negative (\"no\" = 0), which is consistent with the distribution shown in the *Preprocessing* section (even if of course this does not necessarly mean that the predictions themselves are correct). "
      ]
    },
    {
      "cell_type": "markdown",
      "metadata": {
        "id": "W0puAQ5kxDfU"
      },
      "source": [
        "\n",
        "\n",
        "---\n",
        "\n"
      ]
    },
    {
      "cell_type": "markdown",
      "metadata": {
        "id": "ubxNAt97Z-Jv"
      },
      "source": [
        "# (OPTIONAL) Regularization\n",
        "\n",
        "Keras offers a set of regularizers, which can be applied in the following ways:\n",
        "*   ***kernel_regularizer***: regularizer to apply a penalty on the layer's **kernel**;\n",
        "*   ***bias_regularizer***: regularizer to apply a penalty on the layer's **bias**;\n",
        "*   ***activity_regularizer***: regularizer to apply a penalty on the layer's **output**.\n",
        "\n",
        "The regularizers that can be implemented are:\n",
        "*   L1;\n",
        "*   L2;\n",
        "*   l1_l2 (applies both L1 and L2).\n",
        "\n",
        "Keras also allows the user to implement its own custom regularizers (which I am not going to experiment in this assignment).\n",
        "\n",
        "I decided to apply both L1 and L2 separately on the *kernel*, the *bias* and *activity*."
      ]
    },
    {
      "cell_type": "code",
      "metadata": {
        "id": "itpvnhdnZ2Yt"
      },
      "source": [
        "# Applying L1 regularization \n",
        "regularizer = regularizers.l1(l1 = 0.01)\n",
        "model_l1 = Sequential()\n",
        "model_l1.add(Dense(256, activation = \"relu\", kernel_initializer = initializer,\n",
        "                kernel_regularizer = regularizer, bias_regularizer = regularizer, activity_regularizer = regularizer))\n",
        "model.add(Dropout(rate = 0.5))\n",
        "model_l1.add(Dense(64, activation = \"relu\", kernel_initializer = initializer,\n",
        "                kernel_regularizer = regularizer, bias_regularizer = regularizer, activity_regularizer = regularizer))\n",
        "model.add(Dropout(rate = 0.5))\n",
        "model_l1.add(Dense(16, activation = \"relu\", kernel_initializer = initializer,\n",
        "                kernel_regularizer = regularizer, bias_regularizer = regularizer, activity_regularizer = regularizer))\n",
        "model.add(Dropout(rate = 0.5))\n",
        "model_l1.add(Dense(n_classes, activation = \"sigmoid\", kernel_initializer = initializer))\n",
        "\n",
        "model_l1.compile(optimizer = optimizer, loss = \"binary_crossentropy\",\n",
        "              metrics = ['accuracy'])\n",
        "\n",
        "# Applying L2 regularization\n",
        "regularizer = regularizers.l2(l2 = 0.01)\n",
        "model_l2 = Sequential()\n",
        "model_l2.add(Dense(256, activation = \"relu\", kernel_initializer = initializer,\n",
        "                kernel_regularizer = regularizer, bias_regularizer = regularizer, activity_regularizer = regularizer))\n",
        "model.add(Dropout(rate = 0.5))\n",
        "model_l2.add(Dense(64, activation = \"relu\", kernel_initializer = initializer,\n",
        "                kernel_regularizer = regularizer, bias_regularizer = regularizer, activity_regularizer = regularizer))\n",
        "model.add(Dropout(rate = 0.5))\n",
        "model_l2.add(Dense(16, activation = \"relu\", kernel_initializer = initializer,\n",
        "                kernel_regularizer = regularizer, bias_regularizer = regularizer, activity_regularizer = regularizer))\n",
        "model.add(Dropout(rate = 0.5))\n",
        "model_l2.add(Dense(n_classes, activation = \"sigmoid\", kernel_initializer = initializer))\n",
        "\n",
        "model_l2.compile(optimizer = optimizer, loss = \"binary_crossentropy\",\n",
        "              metrics = ['accuracy'])"
      ],
      "execution_count": 92,
      "outputs": []
    },
    {
      "cell_type": "code",
      "metadata": {
        "id": "ZC_qwnSq0uHO"
      },
      "source": [
        "# Running this cell will take approximately 20 seconds\n",
        "network_history_l1 = model_l1.fit(X_train, Y_train, batch_size = batch_size, epochs = n_epochs,\n",
        "                            verbose = 0, validation_data = (X_val, Y_val))\n",
        "network_history_l2 = model_l2.fit(X_train, Y_train, batch_size = batch_size, epochs = n_epochs,\n",
        "                            verbose = 0, validation_data = (X_val, Y_val))"
      ],
      "execution_count": 93,
      "outputs": []
    },
    {
      "cell_type": "code",
      "metadata": {
        "colab": {
          "base_uri": "https://localhost:8080/"
        },
        "id": "YRHgpTRARwaS",
        "outputId": "bb45ac6d-d284-48ef-d460-5bb5f8be4114"
      },
      "source": [
        "# Results with L1 regularizer\n",
        "accuracy = network_history_l1.history[\"accuracy\"][-1]\n",
        "print(\"Results obtained with L1 regularizer:\")\n",
        "print(\"Training accuracy =\", accuracy)\n",
        "val_accuracy = network_history_l1.history['val_accuracy'][-1]\n",
        "print(\"Validation accuracy =\", val_accuracy)\n",
        "# Results with L2 regularizer\n",
        "print(\"\\nResults obtained with L2 regularizer:\")\n",
        "accuracy = network_history_l2.history[\"accuracy\"][-1]\n",
        "print(\"Training accuracy =\", accuracy)\n",
        "val_accuracy = network_history_l2.history['val_accuracy'][-1]\n",
        "print(\"Validation accuracy =\", val_accuracy)"
      ],
      "execution_count": 94,
      "outputs": [
        {
          "output_type": "stream",
          "name": "stdout",
          "text": [
            "Results obtained with L1 regularizer:\n",
            "Training accuracy = 0.7782222032546997\n",
            "Validation accuracy = 0.778166651725769\n",
            "\n",
            "Results obtained with L2 regularizer:\n",
            "Training accuracy = 0.8086110949516296\n",
            "Validation accuracy = 0.8118333220481873\n"
          ]
        }
      ]
    },
    {
      "cell_type": "markdown",
      "metadata": {
        "id": "VXpYwgzb4A5N"
      },
      "source": [
        "As can be seen, the L1 regularizer seems to generate worse results in terms of accuracy, while L2 gives approximately the same results."
      ]
    },
    {
      "cell_type": "code",
      "metadata": {
        "colab": {
          "base_uri": "https://localhost:8080/",
          "height": 573
        },
        "id": "aP3jIheMwlG3",
        "outputId": "82946395-ca74-44c1-f1ee-5d69d625f8d1"
      },
      "source": [
        "# Plot results obtained with L1 regularizer\n",
        "x_plot = list(range(1, n_epochs + 1))\n",
        "# Loss\n",
        "plt.figure()\n",
        "plt.xlabel('Epochs')\n",
        "plt.ylabel('Loss')\n",
        "plt.plot(x_plot, network_history_l1.history['loss'], color = \"dodgerblue\")\n",
        "plt.plot(x_plot, network_history_l1.history['val_loss'], color = \"orangered\")\n",
        "plt.legend(['Training', 'Validation'])\n",
        "plt.title(\"Loss trend with L1 regularizer\")\n",
        "# Accuracy\n",
        "plt.figure()\n",
        "plt.xlabel('Epochs')\n",
        "plt.ylabel('Accuracy')\n",
        "plt.plot(x_plot, network_history_l1.history['accuracy'], color = \"dodgerblue\")\n",
        "plt.plot(x_plot, network_history_l1.history['val_accuracy'], color = \"orangered\")\n",
        "plt.legend(['Training', 'Validation'], loc='lower right')\n",
        "plt.title(\"Accuracy trend with L1 regularizer\")\n",
        "plt.show()"
      ],
      "execution_count": 95,
      "outputs": [
        {
          "output_type": "display_data",
          "data": {
            "image/png": "[encoded data removed]",
            "text/plain": [
              "<Figure size 432x288 with 1 Axes>"
            ]
          },
          "metadata": {
            "needs_background": "light"
          }
        },
        {
          "output_type": "display_data",
          "data": {
            "image/png": "[encoded data removed]",
            "text/plain": [
              "<Figure size 432x288 with 1 Axes>"
            ]
          },
          "metadata": {
            "needs_background": "light"
          }
        }
      ]
    },
    {
      "cell_type": "markdown",
      "metadata": {
        "id": "XCHSWGlp5VJm"
      },
      "source": [
        "The plots about L1 show an unwanted behaviour for both loss and accuracy, since they seem to converge to fixed values after less than 10 epochs."
      ]
    },
    {
      "cell_type": "code",
      "metadata": {
        "colab": {
          "base_uri": "https://localhost:8080/",
          "height": 573
        },
        "id": "yonOoJBa5Zv8",
        "outputId": "6fc8484c-a05b-482c-d476-5c39d0098462"
      },
      "source": [
        "# Plot results obtained with L2 regularizer\n",
        "x_plot = list(range(1, n_epochs + 1))\n",
        "# Loss\n",
        "plt.figure()\n",
        "plt.xlabel('Epochs')\n",
        "plt.ylabel('Loss')\n",
        "plt.plot(x_plot, network_history_l2.history['loss'], color = \"dodgerblue\")\n",
        "plt.plot(x_plot, network_history_l2.history['val_loss'], color = \"orangered\")\n",
        "plt.legend(['Training', 'Validation'])\n",
        "plt.title(\"Loss trend with L2 regularizer\")\n",
        "# Accuracy\n",
        "plt.figure()\n",
        "plt.xlabel('Epochs')\n",
        "plt.ylabel('Accuracy')\n",
        "plt.plot(x_plot, network_history_l2.history['accuracy'], color = \"dodgerblue\")\n",
        "plt.plot(x_plot, network_history_l2.history['val_accuracy'], color = \"orangered\")\n",
        "plt.legend(['Training', 'Validation'], loc='lower right')\n",
        "plt.title(\"Accuracy trend with L2 regularizer\")\n",
        "plt.show()"
      ],
      "execution_count": 89,
      "outputs": [
        {
          "output_type": "display_data",
          "data": {
            "image/png": "[encoded data removed]",
            "text/plain": [
              "<Figure size 432x288 with 1 Axes>"
            ]
          },
          "metadata": {
            "needs_background": "light"
          }
        },
        {
          "output_type": "display_data",
          "data": {
            "image/png": "[encoded data removed]",
            "text/plain": [
              "<Figure size 432x288 with 1 Axes>"
            ]
          },
          "metadata": {
            "needs_background": "light"
          }
        }
      ]
    },
    {
      "cell_type": "markdown",
      "metadata": {
        "id": "iR5mOhBh4Oq2"
      },
      "source": [
        "The plots about results obtained with L2 show a better correlation between the trends of both loss and accuracy respect to the original model without regularization, and of course these are much better results than the ones obtained with L1 regularizer, meaning that computing the penalty using the square() instead that the abs() is more suitable for this problem."
      ]
    },
    {
      "cell_type": "markdown",
      "metadata": {
        "id": "VYGuvp1CxGr7"
      },
      "source": [
        "\n",
        "\n",
        "---\n",
        "\n"
      ]
    }
  ]
}